{
 "cells": [
  {
   "cell_type": "markdown",
   "id": "bbf9659c-d2ad-4ddc-8a1c-83c884d3b292",
   "metadata": {},
   "source": [
    "## Requirements"
   ]
  },
  {
   "cell_type": "markdown",
   "id": "b6bdc519-aa2a-46f8-8995-d630fe1affcd",
   "metadata": {},
   "source": [
    "Example\n",
    "- Lets assume you are going to use still photographs comming from a RGB camera.\n",
    "\n",
    "- You have some **computing power** onboard the device and want to use that to do the processing. No connection to internet. the computing power is equal to a modern phone.\n",
    "\n",
    "- What sort of **performance** are we after?\n",
    "\n",
    "- **Data**: how to obtain data, how much and what type?"
   ]
  },
  {
   "cell_type": "markdown",
   "id": "c5db6d13-68e9-4fed-b439-cbfc70c56a01",
   "metadata": {},
   "source": [
    "## Package imports"
   ]
  },
  {
   "cell_type": "code",
   "execution_count": 2,
   "id": "82e0ef0f-9715-4122-903d-f1ac5ea4e79a",
   "metadata": {},
   "outputs": [
    {
     "name": "stderr",
     "output_type": "stream",
     "text": [
      "2025-08-31 04:30:32.918645: I tensorflow/core/util/port.cc:113] oneDNN custom operations are on. You may see slightly different numerical results due to floating-point round-off errors from different computation orders. To turn them off, set the environment variable `TF_ENABLE_ONEDNN_OPTS=0`.\n",
      "2025-08-31 04:30:39.862332: E external/local_xla/xla/stream_executor/cuda/cuda_fft.cc:479] Unable to register cuFFT factory: Attempting to register factory for plugin cuFFT when one has already been registered\n",
      "2025-08-31 04:30:43.616869: E external/local_xla/xla/stream_executor/cuda/cuda_dnn.cc:10575] Unable to register cuDNN factory: Attempting to register factory for plugin cuDNN when one has already been registered\n",
      "2025-08-31 04:30:43.617524: E external/local_xla/xla/stream_executor/cuda/cuda_blas.cc:1442] Unable to register cuBLAS factory: Attempting to register factory for plugin cuBLAS when one has already been registered\n",
      "2025-08-31 04:30:49.063815: I tensorflow/core/platform/cpu_feature_guard.cc:210] This TensorFlow binary is optimized to use available CPU instructions in performance-critical operations.\n",
      "To enable the following instructions: AVX2 AVX512F AVX512_VNNI FMA, in other operations, rebuild TensorFlow with the appropriate compiler flags.\n",
      "2025-08-31 04:30:56.777652: W tensorflow/compiler/tf2tensorrt/utils/py_utils.cc:38] TF-TRT Warning: Could not find TensorRT\n",
      "/home/ec2-user/anaconda3/envs/tensorflow2_p310/lib/python3.10/site-packages/pandas/core/computation/expressions.py:21: UserWarning: Pandas requires version '2.8.4' or newer of 'numexpr' (version '2.7.3' currently installed).\n",
      "  from pandas.core.computation.check import NUMEXPR_INSTALLED\n"
     ]
    }
   ],
   "source": [
    "import tensorflow as tf\n",
    "AUTOTUNE = tf.data.experimental.AUTOTUNE\n",
    "import pandas as pd\n",
    "import numpy as np\n",
    "from matplotlib import pyplot as plt"
   ]
  },
  {
   "cell_type": "markdown",
   "id": "4381c497-f0ed-4d02-8c37-e031f5189211",
   "metadata": {},
   "source": [
    "## Import and preprocess data "
   ]
  },
  {
   "cell_type": "code",
   "execution_count": 3,
   "id": "b5b1839a-f640-4c53-aeca-de397e48471e",
   "metadata": {},
   "outputs": [],
   "source": [
    "dev_labels = pd.read_csv(\"../dev_data_2025.csv\")\n",
    "future_labels = pd.read_csv(\"../future_data_2025.csv\")"
   ]
  },
  {
   "cell_type": "code",
   "execution_count": 4,
   "id": "58ac1d7e-8859-4687-9d29-3ddf54caf570",
   "metadata": {},
   "outputs": [
    {
     "data": {
      "text/html": [
       "<div>\n",
       "<style scoped>\n",
       "    .dataframe tbody tr th:only-of-type {\n",
       "        vertical-align: middle;\n",
       "    }\n",
       "\n",
       "    .dataframe tbody tr th {\n",
       "        vertical-align: top;\n",
       "    }\n",
       "\n",
       "    .dataframe thead th {\n",
       "        text-align: right;\n",
       "    }\n",
       "</style>\n",
       "<table border=\"1\" class=\"dataframe\">\n",
       "  <thead>\n",
       "    <tr style=\"text-align: right;\">\n",
       "      <th></th>\n",
       "      <th>imageID</th>\n",
       "      <th>label</th>\n",
       "      <th>cell_shape</th>\n",
       "      <th>nucleus_shape</th>\n",
       "      <th>cytoplasm_vacuole</th>\n",
       "    </tr>\n",
       "  </thead>\n",
       "  <tbody>\n",
       "    <tr>\n",
       "      <th>0</th>\n",
       "      <td>Img_00001</td>\n",
       "      <td>Lymphocyte</td>\n",
       "      <td>round</td>\n",
       "      <td>unsegmented-round</td>\n",
       "      <td>no</td>\n",
       "    </tr>\n",
       "    <tr>\n",
       "      <th>1</th>\n",
       "      <td>Img_00002</td>\n",
       "      <td>Monocyte</td>\n",
       "      <td>irregular</td>\n",
       "      <td>unsegmented-indented</td>\n",
       "      <td>no</td>\n",
       "    </tr>\n",
       "    <tr>\n",
       "      <th>2</th>\n",
       "      <td>Img_00003</td>\n",
       "      <td>Monocyte</td>\n",
       "      <td>irregular</td>\n",
       "      <td>irregular</td>\n",
       "      <td>yes</td>\n",
       "    </tr>\n",
       "    <tr>\n",
       "      <th>3</th>\n",
       "      <td>Img_00004</td>\n",
       "      <td>Basophil</td>\n",
       "      <td>round</td>\n",
       "      <td>segmented-multilobed</td>\n",
       "      <td>no</td>\n",
       "    </tr>\n",
       "    <tr>\n",
       "      <th>4</th>\n",
       "      <td>Img_00005</td>\n",
       "      <td>Neutrophil</td>\n",
       "      <td>round</td>\n",
       "      <td>unsegmented-band</td>\n",
       "      <td>no</td>\n",
       "    </tr>\n",
       "    <tr>\n",
       "      <th>...</th>\n",
       "      <td>...</td>\n",
       "      <td>...</td>\n",
       "      <td>...</td>\n",
       "      <td>...</td>\n",
       "      <td>...</td>\n",
       "    </tr>\n",
       "    <tr>\n",
       "      <th>4995</th>\n",
       "      <td>Img_04996</td>\n",
       "      <td>Lymphocyte</td>\n",
       "      <td>irregular</td>\n",
       "      <td>unsegmented-round</td>\n",
       "      <td>no</td>\n",
       "    </tr>\n",
       "    <tr>\n",
       "      <th>4996</th>\n",
       "      <td>Img_04997</td>\n",
       "      <td>Neutrophil</td>\n",
       "      <td>round</td>\n",
       "      <td>unsegmented-band</td>\n",
       "      <td>no</td>\n",
       "    </tr>\n",
       "    <tr>\n",
       "      <th>4997</th>\n",
       "      <td>Img_04998</td>\n",
       "      <td>Basophil</td>\n",
       "      <td>round</td>\n",
       "      <td>irregular</td>\n",
       "      <td>no</td>\n",
       "    </tr>\n",
       "    <tr>\n",
       "      <th>4998</th>\n",
       "      <td>Img_04999</td>\n",
       "      <td>Neutrophil</td>\n",
       "      <td>round</td>\n",
       "      <td>unsegmented-band</td>\n",
       "      <td>no</td>\n",
       "    </tr>\n",
       "    <tr>\n",
       "      <th>4999</th>\n",
       "      <td>Img_05000</td>\n",
       "      <td>Neutrophil</td>\n",
       "      <td>round</td>\n",
       "      <td>unsegmented-band</td>\n",
       "      <td>no</td>\n",
       "    </tr>\n",
       "  </tbody>\n",
       "</table>\n",
       "<p>5000 rows × 5 columns</p>\n",
       "</div>"
      ],
      "text/plain": [
       "        imageID       label cell_shape         nucleus_shape cytoplasm_vacuole\n",
       "0     Img_00001  Lymphocyte      round     unsegmented-round                no\n",
       "1     Img_00002    Monocyte  irregular  unsegmented-indented                no\n",
       "2     Img_00003    Monocyte  irregular             irregular               yes\n",
       "3     Img_00004    Basophil      round  segmented-multilobed                no\n",
       "4     Img_00005  Neutrophil      round      unsegmented-band                no\n",
       "...         ...         ...        ...                   ...               ...\n",
       "4995  Img_04996  Lymphocyte  irregular     unsegmented-round                no\n",
       "4996  Img_04997  Neutrophil      round      unsegmented-band                no\n",
       "4997  Img_04998    Basophil      round             irregular                no\n",
       "4998  Img_04999  Neutrophil      round      unsegmented-band                no\n",
       "4999  Img_05000  Neutrophil      round      unsegmented-band                no\n",
       "\n",
       "[5000 rows x 5 columns]"
      ]
     },
     "execution_count": 4,
     "metadata": {},
     "output_type": "execute_result"
    }
   ],
   "source": [
    "dev_labels"
   ]
  },
  {
   "cell_type": "code",
   "execution_count": 5,
   "id": "c7ef06f0-3641-4faa-8a6c-397a636a4609",
   "metadata": {},
   "outputs": [
    {
     "data": {
      "text/html": [
       "<div>\n",
       "<style scoped>\n",
       "    .dataframe tbody tr th:only-of-type {\n",
       "        vertical-align: middle;\n",
       "    }\n",
       "\n",
       "    .dataframe tbody tr th {\n",
       "        vertical-align: top;\n",
       "    }\n",
       "\n",
       "    .dataframe thead th {\n",
       "        text-align: right;\n",
       "    }\n",
       "</style>\n",
       "<table border=\"1\" class=\"dataframe\">\n",
       "  <thead>\n",
       "    <tr style=\"text-align: right;\">\n",
       "      <th></th>\n",
       "      <th>imageID</th>\n",
       "      <th>label</th>\n",
       "      <th>cell_shape</th>\n",
       "      <th>nucleus_shape</th>\n",
       "      <th>cytoplasm_vacuole</th>\n",
       "    </tr>\n",
       "  </thead>\n",
       "  <tbody>\n",
       "    <tr>\n",
       "      <th>0</th>\n",
       "      <td>Img_00001</td>\n",
       "      <td>0</td>\n",
       "      <td>0</td>\n",
       "      <td>0</td>\n",
       "      <td>0</td>\n",
       "    </tr>\n",
       "    <tr>\n",
       "      <th>1</th>\n",
       "      <td>Img_00002</td>\n",
       "      <td>1</td>\n",
       "      <td>1</td>\n",
       "      <td>1</td>\n",
       "      <td>0</td>\n",
       "    </tr>\n",
       "    <tr>\n",
       "      <th>2</th>\n",
       "      <td>Img_00003</td>\n",
       "      <td>1</td>\n",
       "      <td>1</td>\n",
       "      <td>2</td>\n",
       "      <td>1</td>\n",
       "    </tr>\n",
       "    <tr>\n",
       "      <th>3</th>\n",
       "      <td>Img_00004</td>\n",
       "      <td>2</td>\n",
       "      <td>0</td>\n",
       "      <td>3</td>\n",
       "      <td>0</td>\n",
       "    </tr>\n",
       "    <tr>\n",
       "      <th>4</th>\n",
       "      <td>Img_00005</td>\n",
       "      <td>3</td>\n",
       "      <td>0</td>\n",
       "      <td>4</td>\n",
       "      <td>0</td>\n",
       "    </tr>\n",
       "    <tr>\n",
       "      <th>...</th>\n",
       "      <td>...</td>\n",
       "      <td>...</td>\n",
       "      <td>...</td>\n",
       "      <td>...</td>\n",
       "      <td>...</td>\n",
       "    </tr>\n",
       "    <tr>\n",
       "      <th>4995</th>\n",
       "      <td>Img_04996</td>\n",
       "      <td>0</td>\n",
       "      <td>1</td>\n",
       "      <td>0</td>\n",
       "      <td>0</td>\n",
       "    </tr>\n",
       "    <tr>\n",
       "      <th>4996</th>\n",
       "      <td>Img_04997</td>\n",
       "      <td>3</td>\n",
       "      <td>0</td>\n",
       "      <td>4</td>\n",
       "      <td>0</td>\n",
       "    </tr>\n",
       "    <tr>\n",
       "      <th>4997</th>\n",
       "      <td>Img_04998</td>\n",
       "      <td>2</td>\n",
       "      <td>0</td>\n",
       "      <td>2</td>\n",
       "      <td>0</td>\n",
       "    </tr>\n",
       "    <tr>\n",
       "      <th>4998</th>\n",
       "      <td>Img_04999</td>\n",
       "      <td>3</td>\n",
       "      <td>0</td>\n",
       "      <td>4</td>\n",
       "      <td>0</td>\n",
       "    </tr>\n",
       "    <tr>\n",
       "      <th>4999</th>\n",
       "      <td>Img_05000</td>\n",
       "      <td>3</td>\n",
       "      <td>0</td>\n",
       "      <td>4</td>\n",
       "      <td>0</td>\n",
       "    </tr>\n",
       "  </tbody>\n",
       "</table>\n",
       "<p>5000 rows × 5 columns</p>\n",
       "</div>"
      ],
      "text/plain": [
       "        imageID  label  cell_shape  nucleus_shape  cytoplasm_vacuole\n",
       "0     Img_00001      0           0              0                  0\n",
       "1     Img_00002      1           1              1                  0\n",
       "2     Img_00003      1           1              2                  1\n",
       "3     Img_00004      2           0              3                  0\n",
       "4     Img_00005      3           0              4                  0\n",
       "...         ...    ...         ...            ...                ...\n",
       "4995  Img_04996      0           1              0                  0\n",
       "4996  Img_04997      3           0              4                  0\n",
       "4997  Img_04998      2           0              2                  0\n",
       "4998  Img_04999      3           0              4                  0\n",
       "4999  Img_05000      3           0              4                  0\n",
       "\n",
       "[5000 rows x 5 columns]"
      ]
     },
     "execution_count": 5,
     "metadata": {},
     "output_type": "execute_result"
    }
   ],
   "source": [
    "# convert to integers while saving the mapping in label_vocab\n",
    "TARGETS = [\"label\", \"cell_shape\", \"nucleus_shape\", \"cytoplasm_vacuole\"]\n",
    "target_vocab = {}\n",
    "for target in TARGETS:\n",
    "    dev_labels[target], target_vocab[target] = pd.factorize(dev_labels[target])\n",
    "dev_labels"
   ]
  },
  {
   "cell_type": "code",
   "execution_count": 6,
   "id": "a7425b89-61b9-47e6-bd76-93dbe2ed27ab",
   "metadata": {},
   "outputs": [],
   "source": [
    "# make train test split\n",
    "from sklearn.model_selection import train_test_split\n",
    "\n",
    "train_data_df, test_data_df = train_test_split(dev_labels, test_size=0.2, stratify=dev_labels[\"label\"], random_state=42)\n",
    "train_data_df, val_data_df = train_test_split(train_data_df, test_size=0.25, stratify=train_data_df[\"label\"], random_state=42)"
   ]
  },
  {
   "cell_type": "code",
   "execution_count": 26,
   "id": "70fb02ea-d084-490c-bd64-1992ba38fdf6",
   "metadata": {},
   "outputs": [
    {
     "name": "stderr",
     "output_type": "stream",
     "text": [
      "2025-08-31 05:14:56.185889: W tensorflow/core/framework/local_rendezvous.cc:404] Local rendezvous is aborting with status: OUT_OF_RANGE: End of sequence\n"
     ]
    },
    {
     "data": {
      "image/png": "[encoded data removed]",
      "text/plain": [
       "<Figure size 640x480 with 1 Axes>"
      ]
     },
     "metadata": {},
     "output_type": "display_data"
    },
    {
     "name": "stderr",
     "output_type": "stream",
     "text": [
      "2025-08-31 05:14:57.523168: W tensorflow/core/framework/local_rendezvous.cc:404] Local rendezvous is aborting with status: OUT_OF_RANGE: End of sequence\n"
     ]
    },
    {
     "data": {
      "image/png": "[encoded data removed]",
      "text/plain": [
       "<Figure size 640x480 with 1 Axes>"
      ]
     },
     "metadata": {},
     "output_type": "display_data"
    },
    {
     "name": "stderr",
     "output_type": "stream",
     "text": [
      "2025-08-31 05:14:58.923693: W tensorflow/core/framework/local_rendezvous.cc:404] Local rendezvous is aborting with status: OUT_OF_RANGE: End of sequence\n"
     ]
    },
    {
     "data": {
      "image/png": "[encoded data removed]",
      "text/plain": [
       "<Figure size 640x480 with 1 Axes>"
      ]
     },
     "metadata": {},
     "output_type": "display_data"
    },
    {
     "name": "stderr",
     "output_type": "stream",
     "text": [
      "2025-08-31 05:15:00.372500: W tensorflow/core/framework/local_rendezvous.cc:404] Local rendezvous is aborting with status: OUT_OF_RANGE: End of sequence\n"
     ]
    },
    {
     "data": {
      "image/png": "[encoded data removed]",
      "text/plain": [
       "<Figure size 640x480 with 1 Axes>"
      ]
     },
     "metadata": {},
     "output_type": "display_data"
    }
   ],
   "source": [
    "for target in TARGETS:\n",
    "    train_targets = [int(np.argmax(label[target].numpy())) for image, label in train_dataset]\n",
    "    plt.hist(train_data_df[target])\n",
    "    plt.title(target)\n",
    "    plt.show()"
   ]
  },
  {
   "cell_type": "markdown",
   "id": "888e7e97-1630-4fe7-b258-8a1ab3fc3d9a",
   "metadata": {},
   "source": [
    "**Observation**: \n",
    "- All targets have imbalanced classes and it is especially severe for \"cell shape\" and \"cytoplasm vacuole\".\n",
    "- Because \"nucleus shape\" has 6 classes, some classes are represented by few training samples.\n",
    "\n",
    "**Solutions**:\n",
    "- **Oversampling**: works well for single-output models or multi-output models where one output is significantly more important than the others, as the upsampling aims to balance the classes in a specific output.\n",
    "- **Augmention**: can be done more extensively on underrepresented classes. It does, however, have some of the same issues as oversampling. Normal, uniform augmentation does not solve the imbalance issue but it does increase the absolute number of samples in the underrepresented classes.\n",
    "- **Per-class weighting**: can be done seperately for each output (unlike oversampling and augmentation), which makes advantages for imbalanced multi-output models.\n",
    "- **Robust performance metric**: towards imbalanced classes. \n",
    "\n",
    "Based on these considerations, normal augmentation is applied as well as per-class weighting and using F1 as the performance metric rather than accuracy."
   ]
  },
  {
   "cell_type": "code",
   "execution_count": 20,
   "id": "0bffb1e8-fc33-4bc1-a844-5aa39abdaa33",
   "metadata": {},
   "outputs": [],
   "source": [
    "def make_class_weights(series):\n",
    "    # count number of each label\n",
    "    counts = series.value_counts().sort_index().to_numpy()\n",
    "    # use inverse frequency to give higher weight to infrequent classes\n",
    "    weights = counts.sum() / (len(counts) * counts)\n",
    "    return tf.constant(weights)\n",
    "\n",
    "w_label  = make_class_weights(train_data_df[\"label\"])\n",
    "w_cell   = make_class_weights(train_data_df[\"cell_shape\"])\n",
    "w_nuc    = make_class_weights(train_data_df[\"nucleus_shape\"])\n",
    "w_cyto   = make_class_weights(train_data_df[\"cytoplasm_vacuole\"])\n",
    "\n",
    "w_dict = {\n",
    "    \"label\":           tf.gather(w_label, c_label),\n",
    "    \"cell_shape\":      tf.gather(w_cell, c_cell),\n",
    "    \"nucleus_shape\":   tf.gather(w_nuc, c_nuc),\n",
    "    \"cytoplasm_vacuole\": tf.gather(w_cyto, c_cyto),\n",
    "}\n"
   ]
  },
  {
   "cell_type": "code",
   "execution_count": 7,
   "id": "afdf9753-9756-460e-8b8e-72dc03e31d40",
   "metadata": {
    "scrolled": true
   },
   "outputs": [
    {
     "name": "stderr",
     "output_type": "stream",
     "text": [
      "2025-08-31 04:31:29.460644: I external/local_xla/xla/stream_executor/cuda/cuda_executor.cc:998] successful NUMA node read from SysFS had negative value (-1), but there must be at least one NUMA node, so returning NUMA node zero. See more at https://github.com/torvalds/linux/blob/v6.0/Documentation/ABI/testing/sysfs-bus-pci#L344-L355\n",
      "2025-08-31 04:31:35.199232: I external/local_xla/xla/stream_executor/cuda/cuda_executor.cc:998] successful NUMA node read from SysFS had negative value (-1), but there must be at least one NUMA node, so returning NUMA node zero. See more at https://github.com/torvalds/linux/blob/v6.0/Documentation/ABI/testing/sysfs-bus-pci#L344-L355\n",
      "2025-08-31 04:31:35.202557: I external/local_xla/xla/stream_executor/cuda/cuda_executor.cc:998] successful NUMA node read from SysFS had negative value (-1), but there must be at least one NUMA node, so returning NUMA node zero. See more at https://github.com/torvalds/linux/blob/v6.0/Documentation/ABI/testing/sysfs-bus-pci#L344-L355\n",
      "2025-08-31 04:31:35.206031: I external/local_xla/xla/stream_executor/cuda/cuda_executor.cc:998] successful NUMA node read from SysFS had negative value (-1), but there must be at least one NUMA node, so returning NUMA node zero. See more at https://github.com/torvalds/linux/blob/v6.0/Documentation/ABI/testing/sysfs-bus-pci#L344-L355\n",
      "2025-08-31 04:31:35.208801: I external/local_xla/xla/stream_executor/cuda/cuda_executor.cc:998] successful NUMA node read from SysFS had negative value (-1), but there must be at least one NUMA node, so returning NUMA node zero. See more at https://github.com/torvalds/linux/blob/v6.0/Documentation/ABI/testing/sysfs-bus-pci#L344-L355\n",
      "2025-08-31 04:31:35.211442: I external/local_xla/xla/stream_executor/cuda/cuda_executor.cc:998] successful NUMA node read from SysFS had negative value (-1), but there must be at least one NUMA node, so returning NUMA node zero. See more at https://github.com/torvalds/linux/blob/v6.0/Documentation/ABI/testing/sysfs-bus-pci#L344-L355\n",
      "2025-08-31 04:31:35.375859: I external/local_xla/xla/stream_executor/cuda/cuda_executor.cc:998] successful NUMA node read from SysFS had negative value (-1), but there must be at least one NUMA node, so returning NUMA node zero. See more at https://github.com/torvalds/linux/blob/v6.0/Documentation/ABI/testing/sysfs-bus-pci#L344-L355\n",
      "2025-08-31 04:31:35.376984: I external/local_xla/xla/stream_executor/cuda/cuda_executor.cc:998] successful NUMA node read from SysFS had negative value (-1), but there must be at least one NUMA node, so returning NUMA node zero. See more at https://github.com/torvalds/linux/blob/v6.0/Documentation/ABI/testing/sysfs-bus-pci#L344-L355\n",
      "2025-08-31 04:31:35.377984: I external/local_xla/xla/stream_executor/cuda/cuda_executor.cc:998] successful NUMA node read from SysFS had negative value (-1), but there must be at least one NUMA node, so returning NUMA node zero. See more at https://github.com/torvalds/linux/blob/v6.0/Documentation/ABI/testing/sysfs-bus-pci#L344-L355\n",
      "2025-08-31 04:31:35.379708: I tensorflow/core/common_runtime/gpu/gpu_device.cc:1928] Created device /job:localhost/replica:0/task:0/device:GPU:0 with 13760 MB memory:  -> device: 0, name: Tesla T4, pci bus id: 0000:00:1e.0, compute capability: 7.5\n"
     ]
    }
   ],
   "source": [
    "from pathlib import Path\n",
    "\n",
    "IMG_DIR = \"../Hematoxylin\"\n",
    "\n",
    "def load_image(image_path: str, target_dict: dict):\n",
    "    full_path = tf.strings.join([IMG_DIR, \"/\", image_path, \".jpg\"])\n",
    "    image = tf.io.read_file(full_path)\n",
    "    image = tf.image.decode_png(image, channels=1)\n",
    "    image = tf.image.convert_image_dtype(image, tf.float32) # Cast and normalize the image to [0,1]\n",
    "    image = tf.image.resize(image, [32, 32])\n",
    "\n",
    "    # one-hot encode each output\n",
    "    target_onehot_dict = {target: tf.one_hot(vals, len(target_vocab[target])) for target, vals in target_dict.items()}\n",
    "\n",
    "    return image, target_onehot_dict\n",
    "\n",
    "def create_tf_dataset_from_df(df: pd.DataFrame, train_data = False):\n",
    "    ds = tf.data.Dataset.from_tensor_slices((\n",
    "        df['imageID'].values,\n",
    "        {target: df[target].values for target in TARGETS},\n",
    "    ))\n",
    "    ds = ds.map(load_image, num_parallel_calls=AUTOTUNE)\n",
    "\n",
    "    return ds\n",
    "\n",
    "train_dataset = create_tf_dataset_from_df(train_data_df, train_data = True)\n",
    "val_dataset = create_tf_dataset_from_df(val_data_df)\n",
    "test_dataset = create_tf_dataset_from_df(test_data_df)"
   ]
  },
  {
   "cell_type": "code",
   "execution_count": 8,
   "id": "31fef8dd-f4ee-498b-ae52-869df599ade6",
   "metadata": {},
   "outputs": [
    {
     "name": "stdout",
     "output_type": "stream",
     "text": [
      "Number of training samples: 3000\n",
      "Number of validation samples: 1000\n",
      "Number of test samples: 1000\n"
     ]
    }
   ],
   "source": [
    "print(\"Number of training samples: %d\" % tf.data.experimental.cardinality(train_dataset))\n",
    "print(\n",
    "    \"Number of validation samples: %d\" % tf.data.experimental.cardinality(val_dataset)\n",
    ")\n",
    "print(\"Number of test samples: %d\" % tf.data.experimental.cardinality(test_dataset))"
   ]
  },
  {
   "cell_type": "markdown",
   "id": "f8054086-5f8d-484f-9cb9-680333af018e",
   "metadata": {},
   "source": [
    "**Observation:**\n",
    "Training is relatively small, which means limited fine tuning of backbone model can be performed later. The training set is not found to be too small for some degree of fine tuning. "
   ]
  },
  {
   "cell_type": "code",
   "execution_count": 8,
   "id": "b56d539e-7ef6-4ee3-82ad-3c0e286fcb61",
   "metadata": {},
   "outputs": [],
   "source": [
    "BATCH_SIZE = 32\n",
    "SHUFFLE_BUFFER_SIZE = 100\n",
    "\n",
    "train_batches = (\n",
    "    train_dataset\n",
    "    .shuffle(SHUFFLE_BUFFER_SIZE)\n",
    "    .batch(BATCH_SIZE)\n",
    "    .prefetch(AUTOTUNE)\n",
    ")\n",
    "\n",
    "validation_batches = (\n",
    "    val_dataset\n",
    "    .batch(BATCH_SIZE)\n",
    ")\n",
    "\n",
    "test_batches = (\n",
    "    test_dataset\n",
    "    .batch(BATCH_SIZE)\n",
    ")"
   ]
  },
  {
   "cell_type": "markdown",
   "id": "25fd0db4-b742-40e0-984e-d3fd529c24fc",
   "metadata": {},
   "source": [
    "Print the shapes of the output tensor to check if the dataset generation is working."
   ]
  },
  {
   "cell_type": "code",
   "execution_count": 9,
   "id": "2d14c9dd-5728-4e4e-b8c9-7ae407b9d100",
   "metadata": {},
   "outputs": [
    {
     "name": "stdout",
     "output_type": "stream",
     "text": [
      "(32, 32, 32, 1) [TensorShape([32, 5]), TensorShape([32, 2]), TensorShape([32, 6]), TensorShape([32, 2])]\n",
      "(32, 32, 32, 1) [TensorShape([32, 5]), TensorShape([32, 2]), TensorShape([32, 6]), TensorShape([32, 2])]\n",
      "(32, 32, 32, 1) [TensorShape([32, 5]), TensorShape([32, 2]), TensorShape([32, 6]), TensorShape([32, 2])]\n",
      "(32, 32, 32, 1) [TensorShape([32, 5]), TensorShape([32, 2]), TensorShape([32, 6]), TensorShape([32, 2])]\n",
      "(32, 32, 32, 1) [TensorShape([32, 5]), TensorShape([32, 2]), TensorShape([32, 6]), TensorShape([32, 2])]\n",
      "(32, 32, 32, 1) [TensorShape([32, 5]), TensorShape([32, 2]), TensorShape([32, 6]), TensorShape([32, 2])]\n",
      "(32, 32, 32, 1) [TensorShape([32, 5]), TensorShape([32, 2]), TensorShape([32, 6]), TensorShape([32, 2])]\n",
      "(32, 32, 32, 1) [TensorShape([32, 5]), TensorShape([32, 2]), TensorShape([32, 6]), TensorShape([32, 2])]\n",
      "(32, 32, 32, 1) [TensorShape([32, 5]), TensorShape([32, 2]), TensorShape([32, 6]), TensorShape([32, 2])]\n",
      "(32, 32, 32, 1) [TensorShape([32, 5]), TensorShape([32, 2]), TensorShape([32, 6]), TensorShape([32, 2])]\n",
      "(32, 32, 32, 1) [TensorShape([32, 5]), TensorShape([32, 2]), TensorShape([32, 6]), TensorShape([32, 2])]\n",
      "(32, 32, 32, 1) [TensorShape([32, 5]), TensorShape([32, 2]), TensorShape([32, 6]), TensorShape([32, 2])]\n",
      "(32, 32, 32, 1) [TensorShape([32, 5]), TensorShape([32, 2]), TensorShape([32, 6]), TensorShape([32, 2])]\n",
      "(32, 32, 32, 1) [TensorShape([32, 5]), TensorShape([32, 2]), TensorShape([32, 6]), TensorShape([32, 2])]\n",
      "(32, 32, 32, 1) [TensorShape([32, 5]), TensorShape([32, 2]), TensorShape([32, 6]), TensorShape([32, 2])]\n"
     ]
    },
    {
     "name": "stderr",
     "output_type": "stream",
     "text": [
      "2025-08-31 01:39:32.024415: W tensorflow/core/framework/local_rendezvous.cc:404] Local rendezvous is aborting with status: OUT_OF_RANGE: End of sequence\n",
      "2025-08-31 01:39:32.100964: W tensorflow/core/framework/local_rendezvous.cc:404] Local rendezvous is aborting with status: OUT_OF_RANGE: End of sequence\n",
      "2025-08-31 01:39:32.174211: W tensorflow/core/framework/local_rendezvous.cc:404] Local rendezvous is aborting with status: OUT_OF_RANGE: End of sequence\n"
     ]
    }
   ],
   "source": [
    "for image, targets in train_batches.take(5):\n",
    "    print(image.shape, [target.shape for _,target in targets.items()])\n",
    "\n",
    "for image, targets in validation_batches.take(5):\n",
    "    print(image.shape, [target.shape for _,target in targets.items()])\n",
    "\n",
    "for image, targets in test_batches.take(5):\n",
    "    print(image.shape, [target.shape for _,target in targets.items()])\n"
   ]
  },
  {
   "cell_type": "code",
   "execution_count": 10,
   "id": "d0fe529a-b483-4204-958d-dcf53357fa46",
   "metadata": {},
   "outputs": [
    {
     "name": "stdout",
     "output_type": "stream",
     "text": [
      "(32, 32, 32, 1)\n",
      "(32, 32, 32, 1)\n",
      "(32, 32, 32, 1)\n",
      "(32, 32, 32, 1)\n",
      "(32, 32, 32, 1)\n",
      "(32, 32, 32, 1)\n",
      "(32, 32, 32, 1)\n",
      "(32, 32, 32, 1)\n",
      "(32, 32, 32, 1)\n",
      "(32, 32, 32, 1)\n",
      "(32, 32, 32, 1)\n",
      "(32, 32, 32, 1)\n",
      "(32, 32, 32, 1)\n",
      "(32, 32, 32, 1)\n",
      "(32, 32, 32, 1)\n"
     ]
    },
    {
     "name": "stderr",
     "output_type": "stream",
     "text": [
      "2025-08-31 01:39:32.541666: W tensorflow/core/framework/local_rendezvous.cc:404] Local rendezvous is aborting with status: OUT_OF_RANGE: End of sequence\n"
     ]
    },
    {
     "data": {
      "image/png": "[encoded data removed]",
      "text/plain": [
       "<Figure size 1000x500 with 15 Axes>"
      ]
     },
     "metadata": {},
     "output_type": "display_data"
    }
   ],
   "source": [
    "plt.figure(figsize=(10,5))\n",
    "# clabel = {0: 'right', 1: 'left', 2: 'down', 3: 'up'}\n",
    "i = 1\n",
    "for image, targets in train_batches.take(15):\n",
    "    plt.subplot(3,5,i)\n",
    "    plt.imshow(image[0,:,:,0], cmap='gray')\n",
    "    # plt.title(str(clabel[np.argmax(label[0,:])]))\n",
    "    i = i+1"
   ]
  },
  {
   "cell_type": "markdown",
   "id": "0bfb2018-9f26-4588-9a85-75b99d2f9336",
   "metadata": {},
   "source": [
    "**Observation:** cells seem to always be in the center and orientation is not important. Hence, tilting with large angles is possible. All examined images seem to representative for the application."
   ]
  },
  {
   "cell_type": "markdown",
   "id": "7100de90-b2d1-41cf-a8cc-85e271271766",
   "metadata": {},
   "source": [
    "## Model development"
   ]
  },
  {
   "cell_type": "code",
   "execution_count": null,
   "id": "71f4a67d-3d94-44e8-a0a4-e2635829d5d1",
   "metadata": {},
   "outputs": [],
   "source": [
    "preprocess_input = tf.keras.applications.mobilenet_v2.preprocess_input\n",
    "\n",
    "data_augmentation = tf.keras.Sequential(\n",
    "    [tf.keras.layers.RandomFlip(\"horizontal\"), tf.keras.layers.RandomRotation(0.1),]\n",
    ")\n",
    "\n",
    "\n",
    "inputs = tf.keras.Input(shape=IMG_SHAPE)\n",
    "x = data_augmentation(inputs)\n",
    "x = preprocess_input(inputs)\n",
    "x = base_model(x, training=True)\n",
    "x = tf.keras.layers.GlobalAveragePooling2D()(x)\n",
    "outputs = tf.keras.layers.Dense(2, activation='softmax')(x)\n",
    "model = tf.keras.Model(inputs, outputs)\n",
    "\n",
    "model.summary()"
   ]
  }
 ],
 "metadata": {
  "kernelspec": {
   "display_name": "conda_tensorflow2_p310",
   "language": "python",
   "name": "conda_tensorflow2_p310"
  },
  "language_info": {
   "codemirror_mode": {
    "name": "ipython",
    "version": 3
   },
   "file_extension": ".py",
   "mimetype": "text/x-python",
   "name": "python",
   "nbconvert_exporter": "python",
   "pygments_lexer": "ipython3",
   "version": "3.10.18"
  }
 },
 "nbformat": 4,
 "nbformat_minor": 5
}
