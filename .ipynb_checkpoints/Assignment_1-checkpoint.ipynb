{
 "cells": [
  {
   "cell_type": "markdown",
   "id": "bbf9659c-d2ad-4ddc-8a1c-83c884d3b292",
   "metadata": {},
   "source": [
    "## Requirements"
   ]
  },
  {
   "cell_type": "markdown",
   "id": "b6bdc519-aa2a-46f8-8995-d630fe1affcd",
   "metadata": {},
   "source": [
    "Example\n",
    "- Lets assume you are going to use still photographs comming from a RGB camera.\n",
    "\n",
    "- You have some **computing power** onboard the device and want to use that to do the processing. No connection to internet. the computing power is equal to a modern phone.\n",
    "\n",
    "- What sort of **performance** are we after?\n",
    "\n",
    "- **Data**: how to obtain data, how much and what type?"
   ]
  },
  {
   "cell_type": "markdown",
   "id": "c5db6d13-68e9-4fed-b439-cbfc70c56a01",
   "metadata": {},
   "source": [
    "## Package imports"
   ]
  },
  {
   "cell_type": "code",
   "execution_count": 1,
   "id": "82e0ef0f-9715-4122-903d-f1ac5ea4e79a",
   "metadata": {},
   "outputs": [
    {
     "name": "stderr",
     "output_type": "stream",
     "text": [
      "2025-08-26 05:16:50.789163: I tensorflow/core/util/port.cc:113] oneDNN custom operations are on. You may see slightly different numerical results due to floating-point round-off errors from different computation orders. To turn them off, set the environment variable `TF_ENABLE_ONEDNN_OPTS=0`.\n",
      "2025-08-26 05:16:59.601442: E external/local_xla/xla/stream_executor/cuda/cuda_fft.cc:479] Unable to register cuFFT factory: Attempting to register factory for plugin cuFFT when one has already been registered\n",
      "2025-08-26 05:17:05.614448: E external/local_xla/xla/stream_executor/cuda/cuda_dnn.cc:10575] Unable to register cuDNN factory: Attempting to register factory for plugin cuDNN when one has already been registered\n",
      "2025-08-26 05:17:05.615181: E external/local_xla/xla/stream_executor/cuda/cuda_blas.cc:1442] Unable to register cuBLAS factory: Attempting to register factory for plugin cuBLAS when one has already been registered\n",
      "2025-08-26 05:17:07.039355: I tensorflow/core/platform/cpu_feature_guard.cc:210] This TensorFlow binary is optimized to use available CPU instructions in performance-critical operations.\n",
      "To enable the following instructions: AVX2 AVX512F AVX512_VNNI FMA, in other operations, rebuild TensorFlow with the appropriate compiler flags.\n",
      "2025-08-26 05:17:16.763017: W tensorflow/compiler/tf2tensorrt/utils/py_utils.cc:38] TF-TRT Warning: Could not find TensorRT\n",
      "/home/ec2-user/anaconda3/envs/tensorflow2_p310/lib/python3.10/site-packages/pandas/core/computation/expressions.py:21: UserWarning: Pandas requires version '2.8.4' or newer of 'numexpr' (version '2.7.3' currently installed).\n",
      "  from pandas.core.computation.check import NUMEXPR_INSTALLED\n",
      "Matplotlib is building the font cache; this may take a moment.\n"
     ]
    }
   ],
   "source": [
    "import tensorflow as tf\n",
    "AUTOTUNE = tf.data.experimental.AUTOTUNE\n",
    "import pandas as pd\n",
    "import numpy as np\n",
    "from matplotlib import pyplot as plt"
   ]
  },
  {
   "cell_type": "markdown",
   "id": "4381c497-f0ed-4d02-8c37-e031f5189211",
   "metadata": {},
   "source": [
    "## Import and preprocess data "
   ]
  },
  {
   "cell_type": "code",
   "execution_count": 2,
   "id": "b5b1839a-f640-4c53-aeca-de397e48471e",
   "metadata": {},
   "outputs": [],
   "source": [
    "dev_labels = pd.read_csv(\"../dev_data_2025.csv\")\n",
    "future_labels = pd.read_csv(\"../future_data_2025.csv\")"
   ]
  },
  {
   "cell_type": "code",
   "execution_count": 3,
   "id": "58ac1d7e-8859-4687-9d29-3ddf54caf570",
   "metadata": {},
   "outputs": [
    {
     "data": {
      "text/html": [
       "<div>\n",
       "<style scoped>\n",
       "    .dataframe tbody tr th:only-of-type {\n",
       "        vertical-align: middle;\n",
       "    }\n",
       "\n",
       "    .dataframe tbody tr th {\n",
       "        vertical-align: top;\n",
       "    }\n",
       "\n",
       "    .dataframe thead th {\n",
       "        text-align: right;\n",
       "    }\n",
       "</style>\n",
       "<table border=\"1\" class=\"dataframe\">\n",
       "  <thead>\n",
       "    <tr style=\"text-align: right;\">\n",
       "      <th></th>\n",
       "      <th>imageID</th>\n",
       "      <th>label</th>\n",
       "      <th>cell_shape</th>\n",
       "      <th>nucleus_shape</th>\n",
       "      <th>cytoplasm_vacuole</th>\n",
       "    </tr>\n",
       "  </thead>\n",
       "  <tbody>\n",
       "    <tr>\n",
       "      <th>0</th>\n",
       "      <td>Img_00001</td>\n",
       "      <td>Lymphocyte</td>\n",
       "      <td>round</td>\n",
       "      <td>unsegmented-round</td>\n",
       "      <td>no</td>\n",
       "    </tr>\n",
       "    <tr>\n",
       "      <th>1</th>\n",
       "      <td>Img_00002</td>\n",
       "      <td>Monocyte</td>\n",
       "      <td>irregular</td>\n",
       "      <td>unsegmented-indented</td>\n",
       "      <td>no</td>\n",
       "    </tr>\n",
       "    <tr>\n",
       "      <th>2</th>\n",
       "      <td>Img_00003</td>\n",
       "      <td>Monocyte</td>\n",
       "      <td>irregular</td>\n",
       "      <td>irregular</td>\n",
       "      <td>yes</td>\n",
       "    </tr>\n",
       "    <tr>\n",
       "      <th>3</th>\n",
       "      <td>Img_00004</td>\n",
       "      <td>Basophil</td>\n",
       "      <td>round</td>\n",
       "      <td>segmented-multilobed</td>\n",
       "      <td>no</td>\n",
       "    </tr>\n",
       "    <tr>\n",
       "      <th>4</th>\n",
       "      <td>Img_00005</td>\n",
       "      <td>Neutrophil</td>\n",
       "      <td>round</td>\n",
       "      <td>unsegmented-band</td>\n",
       "      <td>no</td>\n",
       "    </tr>\n",
       "    <tr>\n",
       "      <th>...</th>\n",
       "      <td>...</td>\n",
       "      <td>...</td>\n",
       "      <td>...</td>\n",
       "      <td>...</td>\n",
       "      <td>...</td>\n",
       "    </tr>\n",
       "    <tr>\n",
       "      <th>4995</th>\n",
       "      <td>Img_04996</td>\n",
       "      <td>Lymphocyte</td>\n",
       "      <td>irregular</td>\n",
       "      <td>unsegmented-round</td>\n",
       "      <td>no</td>\n",
       "    </tr>\n",
       "    <tr>\n",
       "      <th>4996</th>\n",
       "      <td>Img_04997</td>\n",
       "      <td>Neutrophil</td>\n",
       "      <td>round</td>\n",
       "      <td>unsegmented-band</td>\n",
       "      <td>no</td>\n",
       "    </tr>\n",
       "    <tr>\n",
       "      <th>4997</th>\n",
       "      <td>Img_04998</td>\n",
       "      <td>Basophil</td>\n",
       "      <td>round</td>\n",
       "      <td>irregular</td>\n",
       "      <td>no</td>\n",
       "    </tr>\n",
       "    <tr>\n",
       "      <th>4998</th>\n",
       "      <td>Img_04999</td>\n",
       "      <td>Neutrophil</td>\n",
       "      <td>round</td>\n",
       "      <td>unsegmented-band</td>\n",
       "      <td>no</td>\n",
       "    </tr>\n",
       "    <tr>\n",
       "      <th>4999</th>\n",
       "      <td>Img_05000</td>\n",
       "      <td>Neutrophil</td>\n",
       "      <td>round</td>\n",
       "      <td>unsegmented-band</td>\n",
       "      <td>no</td>\n",
       "    </tr>\n",
       "  </tbody>\n",
       "</table>\n",
       "<p>5000 rows × 5 columns</p>\n",
       "</div>"
      ],
      "text/plain": [
       "        imageID       label cell_shape         nucleus_shape cytoplasm_vacuole\n",
       "0     Img_00001  Lymphocyte      round     unsegmented-round                no\n",
       "1     Img_00002    Monocyte  irregular  unsegmented-indented                no\n",
       "2     Img_00003    Monocyte  irregular             irregular               yes\n",
       "3     Img_00004    Basophil      round  segmented-multilobed                no\n",
       "4     Img_00005  Neutrophil      round      unsegmented-band                no\n",
       "...         ...         ...        ...                   ...               ...\n",
       "4995  Img_04996  Lymphocyte  irregular     unsegmented-round                no\n",
       "4996  Img_04997  Neutrophil      round      unsegmented-band                no\n",
       "4997  Img_04998    Basophil      round             irregular                no\n",
       "4998  Img_04999  Neutrophil      round      unsegmented-band                no\n",
       "4999  Img_05000  Neutrophil      round      unsegmented-band                no\n",
       "\n",
       "[5000 rows x 5 columns]"
      ]
     },
     "execution_count": 3,
     "metadata": {},
     "output_type": "execute_result"
    }
   ],
   "source": [
    "dev_labels"
   ]
  },
  {
   "cell_type": "code",
   "execution_count": 17,
   "id": "c7ef06f0-3641-4faa-8a6c-397a636a4609",
   "metadata": {},
   "outputs": [
    {
     "data": {
      "text/html": [
       "<div>\n",
       "<style scoped>\n",
       "    .dataframe tbody tr th:only-of-type {\n",
       "        vertical-align: middle;\n",
       "    }\n",
       "\n",
       "    .dataframe tbody tr th {\n",
       "        vertical-align: top;\n",
       "    }\n",
       "\n",
       "    .dataframe thead th {\n",
       "        text-align: right;\n",
       "    }\n",
       "</style>\n",
       "<table border=\"1\" class=\"dataframe\">\n",
       "  <thead>\n",
       "    <tr style=\"text-align: right;\">\n",
       "      <th></th>\n",
       "      <th>imageID</th>\n",
       "      <th>label</th>\n",
       "      <th>cell_shape</th>\n",
       "      <th>nucleus_shape</th>\n",
       "      <th>cytoplasm_vacuole</th>\n",
       "    </tr>\n",
       "  </thead>\n",
       "  <tbody>\n",
       "    <tr>\n",
       "      <th>0</th>\n",
       "      <td>Img_00001</td>\n",
       "      <td>0</td>\n",
       "      <td>0</td>\n",
       "      <td>0</td>\n",
       "      <td>0</td>\n",
       "    </tr>\n",
       "    <tr>\n",
       "      <th>1</th>\n",
       "      <td>Img_00002</td>\n",
       "      <td>1</td>\n",
       "      <td>1</td>\n",
       "      <td>1</td>\n",
       "      <td>0</td>\n",
       "    </tr>\n",
       "    <tr>\n",
       "      <th>2</th>\n",
       "      <td>Img_00003</td>\n",
       "      <td>1</td>\n",
       "      <td>1</td>\n",
       "      <td>2</td>\n",
       "      <td>1</td>\n",
       "    </tr>\n",
       "    <tr>\n",
       "      <th>3</th>\n",
       "      <td>Img_00004</td>\n",
       "      <td>2</td>\n",
       "      <td>0</td>\n",
       "      <td>3</td>\n",
       "      <td>0</td>\n",
       "    </tr>\n",
       "    <tr>\n",
       "      <th>4</th>\n",
       "      <td>Img_00005</td>\n",
       "      <td>3</td>\n",
       "      <td>0</td>\n",
       "      <td>4</td>\n",
       "      <td>0</td>\n",
       "    </tr>\n",
       "    <tr>\n",
       "      <th>...</th>\n",
       "      <td>...</td>\n",
       "      <td>...</td>\n",
       "      <td>...</td>\n",
       "      <td>...</td>\n",
       "      <td>...</td>\n",
       "    </tr>\n",
       "    <tr>\n",
       "      <th>4995</th>\n",
       "      <td>Img_04996</td>\n",
       "      <td>0</td>\n",
       "      <td>1</td>\n",
       "      <td>0</td>\n",
       "      <td>0</td>\n",
       "    </tr>\n",
       "    <tr>\n",
       "      <th>4996</th>\n",
       "      <td>Img_04997</td>\n",
       "      <td>3</td>\n",
       "      <td>0</td>\n",
       "      <td>4</td>\n",
       "      <td>0</td>\n",
       "    </tr>\n",
       "    <tr>\n",
       "      <th>4997</th>\n",
       "      <td>Img_04998</td>\n",
       "      <td>2</td>\n",
       "      <td>0</td>\n",
       "      <td>2</td>\n",
       "      <td>0</td>\n",
       "    </tr>\n",
       "    <tr>\n",
       "      <th>4998</th>\n",
       "      <td>Img_04999</td>\n",
       "      <td>3</td>\n",
       "      <td>0</td>\n",
       "      <td>4</td>\n",
       "      <td>0</td>\n",
       "    </tr>\n",
       "    <tr>\n",
       "      <th>4999</th>\n",
       "      <td>Img_05000</td>\n",
       "      <td>3</td>\n",
       "      <td>0</td>\n",
       "      <td>4</td>\n",
       "      <td>0</td>\n",
       "    </tr>\n",
       "  </tbody>\n",
       "</table>\n",
       "<p>5000 rows × 5 columns</p>\n",
       "</div>"
      ],
      "text/plain": [
       "        imageID  label  cell_shape  nucleus_shape  cytoplasm_vacuole\n",
       "0     Img_00001      0           0              0                  0\n",
       "1     Img_00002      1           1              1                  0\n",
       "2     Img_00003      1           1              2                  1\n",
       "3     Img_00004      2           0              3                  0\n",
       "4     Img_00005      3           0              4                  0\n",
       "...         ...    ...         ...            ...                ...\n",
       "4995  Img_04996      0           1              0                  0\n",
       "4996  Img_04997      3           0              4                  0\n",
       "4997  Img_04998      2           0              2                  0\n",
       "4998  Img_04999      3           0              4                  0\n",
       "4999  Img_05000      3           0              4                  0\n",
       "\n",
       "[5000 rows x 5 columns]"
      ]
     },
     "execution_count": 17,
     "metadata": {},
     "output_type": "execute_result"
    }
   ],
   "source": [
    "# convert to integers while saving the mapping in label_vocab\n",
    "TARGETS = [\"label\", \"cell_shape\", \"nucleus_shape\", \"cytoplasm_vacuole\"]\n",
    "target_vocab = {}\n",
    "for target in TARGETS:\n",
    "    dev_labels[target], target_vocab[target] = pd.factorize(dev_labels[target])\n",
    "dev_labels"
   ]
  },
  {
   "cell_type": "code",
   "execution_count": 22,
   "id": "a7425b89-61b9-47e6-bd76-93dbe2ed27ab",
   "metadata": {},
   "outputs": [],
   "source": [
    "# make train test split\n",
    "from sklearn.model_selection import train_test_split\n",
    "\n",
    "train_data_df, test_data_df = train_test_split(dev_labels, test_size=0.2, stratify=dev_labels[\"label\"], random_state=42)\n",
    "train_data_df, val_data_df = train_test_split(train_data_df, test_size=0.25, stratify=train_data_df[\"label\"], random_state=42)"
   ]
  },
  {
   "cell_type": "code",
   "execution_count": 23,
   "id": "afdf9753-9756-460e-8b8e-72dc03e31d40",
   "metadata": {},
   "outputs": [],
   "source": [
    "from pathlib import Path\n",
    "\n",
    "IMG_DIR = \"../Hematoxylin\"\n",
    "\n",
    "def load_image(image_path: str, target_dict: dict):\n",
    "    full_path = tf.strings.join([IMG_DIR, \"/\", image_path, \".jpg\"])\n",
    "    image = tf.io.read_file(full_path)\n",
    "    image = tf.image.decode_png(image, channels=1)\n",
    "    image = tf.image.convert_image_dtype(image, tf.float32) # Cast and normalize the image to [0,1]\n",
    "    image = tf.image.resize(image, [32, 32])\n",
    "\n",
    "    # one-hot encode each output\n",
    "    target_onehot_dict = {target: tf.one_hot(vals, len(target_vocab[target])) for target, vals in target_dict.items()}\n",
    "\n",
    "    return image, target_onehot_dict\n",
    "\n",
    "def create_tf_dataset_from_df(df: pd.DataFrame):\n",
    "    ds = tf.data.Dataset.from_tensor_slices((\n",
    "        df['imageID'].values,\n",
    "        {target: df[target].values for target in TARGETS},\n",
    "    ))\n",
    "    ds = ds.map(load_image, num_parallel_calls=AUTOTUNE)\n",
    "\n",
    "    return ds\n",
    "\n",
    "train_dataset = create_tf_dataset_from_df(train_data_df)\n",
    "val_dataset = create_tf_dataset_from_df(val_data_df)\n",
    "test_dataset = create_tf_dataset_from_df(test_data_df)"
   ]
  },
  {
   "cell_type": "code",
   "execution_count": 24,
   "id": "31fef8dd-f4ee-498b-ae52-869df599ade6",
   "metadata": {},
   "outputs": [
    {
     "name": "stdout",
     "output_type": "stream",
     "text": [
      "Number of training samples: 3000\n",
      "Number of validation samples: 1000\n",
      "Number of test samples: 1000\n"
     ]
    }
   ],
   "source": [
    "print(\"Number of training samples: %d\" % tf.data.experimental.cardinality(train_dataset))\n",
    "print(\n",
    "    \"Number of validation samples: %d\" % tf.data.experimental.cardinality(val_dataset)\n",
    ")\n",
    "print(\"Number of test samples: %d\" % tf.data.experimental.cardinality(test_dataset))"
   ]
  },
  {
   "cell_type": "markdown",
   "id": "f8054086-5f8d-484f-9cb9-680333af018e",
   "metadata": {},
   "source": [
    "**Observation:**\n",
    "Training is relatively small, which means limited fine tuning of backbone model can be performed later. The training set is not found to be too small for some degree of fine tuning. "
   ]
  },
  {
   "cell_type": "code",
   "execution_count": 25,
   "id": "b56d539e-7ef6-4ee3-82ad-3c0e286fcb61",
   "metadata": {},
   "outputs": [],
   "source": [
    "BATCH_SIZE = 32\n",
    "SHUFFLE_BUFFER_SIZE = 100\n",
    "\n",
    "train_batches = (\n",
    "    train_dataset\n",
    "    .shuffle(SHUFFLE_BUFFER_SIZE)\n",
    "    .batch(BATCH_SIZE)\n",
    "    .prefetch(AUTOTUNE)\n",
    ")\n",
    "\n",
    "validation_batches = (\n",
    "    val_dataset\n",
    "    .batch(BATCH_SIZE)\n",
    ")\n",
    "\n",
    "test_batches = (\n",
    "    test_dataset\n",
    "    .batch(BATCH_SIZE)\n",
    ")"
   ]
  },
  {
   "cell_type": "markdown",
   "id": "25fd0db4-b742-40e0-984e-d3fd529c24fc",
   "metadata": {},
   "source": [
    "Print the shapes of the output tensor to check if the dataset generation is working."
   ]
  },
  {
   "cell_type": "code",
   "execution_count": 30,
   "id": "2d14c9dd-5728-4e4e-b8c9-7ae407b9d100",
   "metadata": {},
   "outputs": [
    {
     "name": "stdout",
     "output_type": "stream",
     "text": [
      "(32, 32, 32, 1) [TensorShape([32, 5]), TensorShape([32, 2]), TensorShape([32, 6]), TensorShape([32, 2])]\n",
      "(32, 32, 32, 1) [TensorShape([32, 5]), TensorShape([32, 2]), TensorShape([32, 6]), TensorShape([32, 2])]\n",
      "(32, 32, 32, 1) [TensorShape([32, 5]), TensorShape([32, 2]), TensorShape([32, 6]), TensorShape([32, 2])]\n",
      "(32, 32, 32, 1) [TensorShape([32, 5]), TensorShape([32, 2]), TensorShape([32, 6]), TensorShape([32, 2])]\n",
      "(32, 32, 32, 1) [TensorShape([32, 5]), TensorShape([32, 2]), TensorShape([32, 6]), TensorShape([32, 2])]\n",
      "(32, 32, 32, 1) [TensorShape([32, 5]), TensorShape([32, 2]), TensorShape([32, 6]), TensorShape([32, 2])]\n",
      "(32, 32, 32, 1) [TensorShape([32, 5]), TensorShape([32, 2]), TensorShape([32, 6]), TensorShape([32, 2])]\n",
      "(32, 32, 32, 1) [TensorShape([32, 5]), TensorShape([32, 2]), TensorShape([32, 6]), TensorShape([32, 2])]\n",
      "(32, 32, 32, 1) [TensorShape([32, 5]), TensorShape([32, 2]), TensorShape([32, 6]), TensorShape([32, 2])]\n",
      "(32, 32, 32, 1) [TensorShape([32, 5]), TensorShape([32, 2]), TensorShape([32, 6]), TensorShape([32, 2])]\n",
      "(32, 32, 32, 1) [TensorShape([32, 5]), TensorShape([32, 2]), TensorShape([32, 6]), TensorShape([32, 2])]\n",
      "(32, 32, 32, 1) [TensorShape([32, 5]), TensorShape([32, 2]), TensorShape([32, 6]), TensorShape([32, 2])]\n",
      "(32, 32, 32, 1) [TensorShape([32, 5]), TensorShape([32, 2]), TensorShape([32, 6]), TensorShape([32, 2])]\n",
      "(32, 32, 32, 1) [TensorShape([32, 5]), TensorShape([32, 2]), TensorShape([32, 6]), TensorShape([32, 2])]\n",
      "(32, 32, 32, 1) [TensorShape([32, 5]), TensorShape([32, 2]), TensorShape([32, 6]), TensorShape([32, 2])]\n"
     ]
    },
    {
     "name": "stderr",
     "output_type": "stream",
     "text": [
      "2025-08-26 06:23:54.735150: W tensorflow/core/framework/local_rendezvous.cc:404] Local rendezvous is aborting with status: OUT_OF_RANGE: End of sequence\n",
      "2025-08-26 06:23:54.801830: W tensorflow/core/framework/local_rendezvous.cc:404] Local rendezvous is aborting with status: OUT_OF_RANGE: End of sequence\n",
      "2025-08-26 06:23:54.875235: W tensorflow/core/framework/local_rendezvous.cc:404] Local rendezvous is aborting with status: OUT_OF_RANGE: End of sequence\n"
     ]
    }
   ],
   "source": [
    "for image, targets in train_batches.take(5):\n",
    "    print(image.shape, [target.shape for _,target in targets.items()])\n",
    "\n",
    "for image, targets in validation_batches.take(5):\n",
    "    print(image.shape, [target.shape for _,target in targets.items()])\n",
    "\n",
    "for image, targets in test_batches.take(5):\n",
    "    print(image.shape, [target.shape for _,target in targets.items()])\n"
   ]
  },
  {
   "cell_type": "code",
   "execution_count": 33,
   "id": "d0fe529a-b483-4204-958d-dcf53357fa46",
   "metadata": {},
   "outputs": [
    {
     "name": "stdout",
     "output_type": "stream",
     "text": [
      "(32, 32, 32, 1)\n",
      "(32, 32, 32, 1)\n",
      "(32, 32, 32, 1)\n",
      "(32, 32, 32, 1)\n",
      "(32, 32, 32, 1)\n",
      "(32, 32, 32, 1)\n",
      "(32, 32, 32, 1)\n",
      "(32, 32, 32, 1)\n",
      "(32, 32, 32, 1)\n",
      "(32, 32, 32, 1)\n",
      "(32, 32, 32, 1)\n",
      "(32, 32, 32, 1)\n",
      "(32, 32, 32, 1)\n",
      "(32, 32, 32, 1)\n",
      "(32, 32, 32, 1)\n"
     ]
    },
    {
     "name": "stderr",
     "output_type": "stream",
     "text": [
      "2025-08-26 06:35:21.702173: W tensorflow/core/framework/local_rendezvous.cc:404] Local rendezvous is aborting with status: OUT_OF_RANGE: End of sequence\n"
     ]
    },
    {
     "data": {
      "image/png": "[encoded data removed]",
      "text/plain": [
       "<Figure size 1000x500 with 15 Axes>"
      ]
     },
     "metadata": {},
     "output_type": "display_data"
    }
   ],
   "source": [
    "plt.figure(figsize=(10,5))\n",
    "# clabel = {0: 'right', 1: 'left', 2: 'down', 3: 'up'}\n",
    "i = 1\n",
    "for image, targets in train_batches.take(15):\n",
    "    plt.subplot(3,5,i)\n",
    "    print(image.shape)\n",
    "    plt.imshow(image[0,:,:,0], cmap='gray')\n",
    "    # plt.title(str(clabel[np.argmax(label[0,:])]))\n",
    "    i = i+1"
   ]
  },
  {
   "cell_type": "markdown",
   "id": "0bfb2018-9f26-4588-9a85-75b99d2f9336",
   "metadata": {},
   "source": [
    "**Observation:** cells seem to always be in the center and orientation is not important. Hence, tilting with large angles is possible. All examined images seem to representative for the application."
   ]
  },
  {
   "cell_type": "code",
   "execution_count": null,
   "id": "2117087f-79b7-4406-a8a3-57424fb4c806",
   "metadata": {},
   "outputs": [],
   "source": [
    "for image, label in train_dataset:\n",
    "    print(np.argmax(label['label'].numpy()))\n",
    "\n",
    "# np.argmax(y[h].numpy(), axis=1)"
   ]
  },
  {
   "cell_type": "code",
   "execution_count": 43,
   "id": "70fb02ea-d084-490c-bd64-1992ba38fdf6",
   "metadata": {},
   "outputs": [
    {
     "name": "stderr",
     "output_type": "stream",
     "text": [
      "2025-08-26 06:57:31.999295: W tensorflow/core/framework/local_rendezvous.cc:404] Local rendezvous is aborting with status: OUT_OF_RANGE: End of sequence\n"
     ]
    },
    {
     "data": {
      "image/png": "[encoded data removed]",
      "text/plain": [
       "<Figure size 640x480 with 1 Axes>"
      ]
     },
     "metadata": {},
     "output_type": "display_data"
    },
    {
     "name": "stderr",
     "output_type": "stream",
     "text": [
      "2025-08-26 06:57:33.434326: W tensorflow/core/framework/local_rendezvous.cc:404] Local rendezvous is aborting with status: OUT_OF_RANGE: End of sequence\n"
     ]
    },
    {
     "data": {
      "image/png": "[encoded data removed]",
      "text/plain": [
       "<Figure size 640x480 with 1 Axes>"
      ]
     },
     "metadata": {},
     "output_type": "display_data"
    },
    {
     "name": "stderr",
     "output_type": "stream",
     "text": [
      "2025-08-26 06:57:34.676508: W tensorflow/core/framework/local_rendezvous.cc:404] Local rendezvous is aborting with status: OUT_OF_RANGE: End of sequence\n"
     ]
    },
    {
     "data": {
      "image/png": "[encoded data removed]",
      "text/plain": [
       "<Figure size 640x480 with 1 Axes>"
      ]
     },
     "metadata": {},
     "output_type": "display_data"
    },
    {
     "name": "stderr",
     "output_type": "stream",
     "text": [
      "2025-08-26 06:57:35.923042: W tensorflow/core/framework/local_rendezvous.cc:404] Local rendezvous is aborting with status: OUT_OF_RANGE: End of sequence\n"
     ]
    },
    {
     "data": {
      "image/png": "[encoded data removed]",
      "text/plain": [
       "<Figure size 640x480 with 1 Axes>"
      ]
     },
     "metadata": {},
     "output_type": "display_data"
    }
   ],
   "source": [
    "for target in TARGETS:\n",
    "    train_targets = [int(np.argmax(label[target].numpy())) for image, label in train_dataset]\n",
    "    plt.hist(train_targets)\n",
    "    plt.title(target)\n",
    "    plt.show()"
   ]
  },
  {
   "cell_type": "markdown",
   "id": "888e7e97-1630-4fe7-b258-8a1ab3fc3d9a",
   "metadata": {},
   "source": [
    "**Observation**: \n",
    "- All targets have imbalanced classes and it is especially severe for \"cell shape\" and \"cytoplasm vacuole\".\n",
    "- Because \"nucleus shape\" has 6 classes, some classes are represented by few training samples."
   ]
  },
  {
   "cell_type": "markdown",
   "id": "7100de90-b2d1-41cf-a8cc-85e271271766",
   "metadata": {},
   "source": [
    "## Model development"
   ]
  },
  {
   "cell_type": "code",
   "execution_count": null,
   "id": "99a03efe-ea86-4eb3-90e0-e78832559257",
   "metadata": {},
   "outputs": [],
   "source": [
    "from tensorflow.keras.models import Sequential\n",
    "from tensorflow.keras.layers import Conv2D, MaxPooling2D, Lambda, Input\n",
    "from tensorflow.keras.layers import Activation, Dropout, Flatten, Dense\n",
    "from tensorflow.keras.metrics import categorical_accuracy\n",
    "from tensorflow.keras import regularizers, optimizers\n",
    "\n",
    "def get_model():\n",
    "  model_cnn = Sequential()\n",
    "\n",
    "  # input\n",
    "  model_cnn.add(Input(shape=(32, 32, 1)))\n",
    "\n",
    "  # Conv Layer 1\n",
    "  model_cnn.add(Conv2D(32, (3, 3),kernel_regularizer=regularizers.l2(0.001)))\n",
    "  model_cnn.add(Activation('relu'))\n",
    "  model_cnn.add(MaxPooling2D(pool_size=(2, 2)))\n",
    "\n",
    "  # Conv Layer 2 (no pooling)\n",
    "  model_cnn.add(Conv2D(32, (3, 3),kernel_regularizer=regularizers.l2(0.001)))\n",
    "  model_cnn.add(Activation('relu'))\n",
    "\n",
    "  # Conv Layer 3\n",
    "  model_cnn.add(Conv2D(64, (3, 3)))\n",
    "  model_cnn.add(Activation('relu'))\n",
    "  model_cnn.add(MaxPooling2D(pool_size=(2, 2)))\n",
    "\n",
    "  # MLP\n",
    "  model_cnn.add(Flatten())  # this converts our 3D feature maps to 1D feature vectors\n",
    "  model_cnn.add(Dropout(0.5))\n",
    "  model_cnn.add(Dense(64))\n",
    "  model_cnn.add(Activation('relu'))\n",
    "  #model_cnn.add(Dropout(0.5))\n",
    "  model_cnn.add(Dense(4))\n",
    "  model_cnn.add(Activation('softmax'))\n",
    "\n",
    "\n",
    "  return model_cnn\n",
    "\n",
    "class CNNModel(tf.keras.Model):\n",
    "    def __init__(self):\n",
    "        super(CNNModel, self).__init__()\n",
    "        self.flatten = tf.keras.layers.Flatten()\n",
    "        self.d1 = tf.keras.layers.Dense(128, activation='relu')\n",
    "        self.d2 = tf.keras.layers.Dense(10, activation='softmax')\n",
    "        self.drop = tf.keras.layers.Dropout(0.2)\n",
    "\n",
    "        self.c1 = Conv2D(32, (3, 3), kernel_regularizer=regularizers.l2(0.001))\n",
    "        \n",
    "    \n",
    "    def call(self, x):\n",
    "        x = self.flatten(x)\n",
    "        x = self.d1(x)\n",
    "        x = self.drop(x)\n",
    "        return self.d2(x)\n",
    "\n",
    "model = CNNModel()"
   ]
  },
  {
   "cell_type": "code",
   "execution_count": null,
   "id": "e9236d4a-1d33-4700-b02f-19c7533089cf",
   "metadata": {},
   "outputs": [],
   "source": [
    "model_no_aug = tf.keras.Sequential([\n",
    "    tf.keras.layers.Input(shape=(28, 28, 1)),\n",
    "    tf.keras.layers.Flatten(),\n",
    "    tf.keras.layers.Dense(4096, activation='relu'),\n",
    "    tf.keras.layers.Dense(4096, activation='relu'),\n",
    "    tf.keras.layers.Dense(10)\n",
    "])\n",
    "\n",
    "model_no_aug.compile(\n",
    "    optimizer = 'adam',\n",
    "    loss=tf.losses.SparseCategoricalCrossentropy(from_logits=True),\n",
    "    metrics=[tf.losses.SparseCategoricalCrossentropy(from_logits=True, name='SparseCategoricalCrossentropy'), 'accuracy'],\n",
    ")\n",
    "m_histories['No_augmentation'] = model_no_aug.fit(non_augmented_train_batches, epochs=50, validation_data=validation_batches, verbose=0, callbacks=get_callbacks('models/noAug'))"
   ]
  },
  {
   "cell_type": "code",
   "execution_count": null,
   "id": "9fd63820-ca45-4cf3-b7f2-5b3d116bafa1",
   "metadata": {},
   "outputs": [],
   "source": []
  }
 ],
 "metadata": {
  "kernelspec": {
   "display_name": "conda_tensorflow2_p310",
   "language": "python",
   "name": "conda_tensorflow2_p310"
  },
  "language_info": {
   "codemirror_mode": {
    "name": "ipython",
    "version": 3
   },
   "file_extension": ".py",
   "mimetype": "text/x-python",
   "name": "python",
   "nbconvert_exporter": "python",
   "pygments_lexer": "ipython3",
   "version": "3.10.18"
  }
 },
 "nbformat": 4,
 "nbformat_minor": 5
}
