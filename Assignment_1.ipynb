{
 "cells": [
  {
   "cell_type": "markdown",
   "id": "bbf9659c-d2ad-4ddc-8a1c-83c884d3b292",
   "metadata": {},
   "source": [
    "## Requirements"
   ]
  },
  {
   "cell_type": "markdown",
   "id": "b6bdc519-aa2a-46f8-8995-d630fe1affcd",
   "metadata": {},
   "source": [
    "Example\n",
    "- Lets assume you are going to use still photographs comming from a RGB camera.\n",
    "\n",
    "- You have some **computing power** onboard the device and want to use that to do the processing. No connection to internet. the computing power is equal to a modern phone.\n",
    "\n",
    "- What sort of **performance** are we after?\n",
    "\n",
    "- **Data**: how to obtain data, how much and what type?"
   ]
  },
  {
   "cell_type": "markdown",
   "id": "c5db6d13-68e9-4fed-b439-cbfc70c56a01",
   "metadata": {},
   "source": [
    "## Package imports"
   ]
  },
  {
   "cell_type": "code",
   "execution_count": 2,
   "id": "82e0ef0f-9715-4122-903d-f1ac5ea4e79a",
   "metadata": {},
   "outputs": [
    {
     "name": "stderr",
     "output_type": "stream",
     "text": [
      "2025-09-01 01:23:28.448209: I tensorflow/core/util/port.cc:113] oneDNN custom operations are on. You may see slightly different numerical results due to floating-point round-off errors from different computation orders. To turn them off, set the environment variable `TF_ENABLE_ONEDNN_OPTS=0`.\n",
      "2025-09-01 01:23:28.464304: E external/local_xla/xla/stream_executor/cuda/cuda_fft.cc:479] Unable to register cuFFT factory: Attempting to register factory for plugin cuFFT when one has already been registered\n",
      "2025-09-01 01:23:28.488961: E external/local_xla/xla/stream_executor/cuda/cuda_dnn.cc:10575] Unable to register cuDNN factory: Attempting to register factory for plugin cuDNN when one has already been registered\n",
      "2025-09-01 01:23:28.488987: E external/local_xla/xla/stream_executor/cuda/cuda_blas.cc:1442] Unable to register cuBLAS factory: Attempting to register factory for plugin cuBLAS when one has already been registered\n",
      "2025-09-01 01:23:28.503988: I tensorflow/core/platform/cpu_feature_guard.cc:210] This TensorFlow binary is optimized to use available CPU instructions in performance-critical operations.\n",
      "To enable the following instructions: AVX2 AVX512F AVX512_VNNI FMA, in other operations, rebuild TensorFlow with the appropriate compiler flags.\n",
      "2025-09-01 01:23:29.303781: W tensorflow/compiler/tf2tensorrt/utils/py_utils.cc:38] TF-TRT Warning: Could not find TensorRT\n",
      "/home/ec2-user/anaconda3/envs/tensorflow2_p310/lib/python3.10/site-packages/pandas/core/computation/expressions.py:21: UserWarning: Pandas requires version '2.8.4' or newer of 'numexpr' (version '2.7.3' currently installed).\n",
      "  from pandas.core.computation.check import NUMEXPR_INSTALLED\n"
     ]
    }
   ],
   "source": [
    "import tensorflow as tf\n",
    "AUTOTUNE = tf.data.experimental.AUTOTUNE\n",
    "import pandas as pd\n",
    "import numpy as np\n",
    "from matplotlib import pyplot as plt"
   ]
  },
  {
   "cell_type": "markdown",
   "id": "4381c497-f0ed-4d02-8c37-e031f5189211",
   "metadata": {},
   "source": [
    "## Import and preprocess data "
   ]
  },
  {
   "cell_type": "code",
   "execution_count": 3,
   "id": "b5b1839a-f640-4c53-aeca-de397e48471e",
   "metadata": {},
   "outputs": [],
   "source": [
    "dev_labels = pd.read_csv(\"../dev_data_2025.csv\")\n",
    "future_labels = pd.read_csv(\"../future_data_2025.csv\")"
   ]
  },
  {
   "cell_type": "code",
   "execution_count": 4,
   "id": "58ac1d7e-8859-4687-9d29-3ddf54caf570",
   "metadata": {},
   "outputs": [
    {
     "data": {
      "text/html": [
       "<div>\n",
       "<style scoped>\n",
       "    .dataframe tbody tr th:only-of-type {\n",
       "        vertical-align: middle;\n",
       "    }\n",
       "\n",
       "    .dataframe tbody tr th {\n",
       "        vertical-align: top;\n",
       "    }\n",
       "\n",
       "    .dataframe thead th {\n",
       "        text-align: right;\n",
       "    }\n",
       "</style>\n",
       "<table border=\"1\" class=\"dataframe\">\n",
       "  <thead>\n",
       "    <tr style=\"text-align: right;\">\n",
       "      <th></th>\n",
       "      <th>imageID</th>\n",
       "      <th>label</th>\n",
       "      <th>cell_shape</th>\n",
       "      <th>nucleus_shape</th>\n",
       "      <th>cytoplasm_vacuole</th>\n",
       "    </tr>\n",
       "  </thead>\n",
       "  <tbody>\n",
       "    <tr>\n",
       "      <th>0</th>\n",
       "      <td>Img_00001</td>\n",
       "      <td>Lymphocyte</td>\n",
       "      <td>round</td>\n",
       "      <td>unsegmented-round</td>\n",
       "      <td>no</td>\n",
       "    </tr>\n",
       "    <tr>\n",
       "      <th>1</th>\n",
       "      <td>Img_00002</td>\n",
       "      <td>Monocyte</td>\n",
       "      <td>irregular</td>\n",
       "      <td>unsegmented-indented</td>\n",
       "      <td>no</td>\n",
       "    </tr>\n",
       "    <tr>\n",
       "      <th>2</th>\n",
       "      <td>Img_00003</td>\n",
       "      <td>Monocyte</td>\n",
       "      <td>irregular</td>\n",
       "      <td>irregular</td>\n",
       "      <td>yes</td>\n",
       "    </tr>\n",
       "    <tr>\n",
       "      <th>3</th>\n",
       "      <td>Img_00004</td>\n",
       "      <td>Basophil</td>\n",
       "      <td>round</td>\n",
       "      <td>segmented-multilobed</td>\n",
       "      <td>no</td>\n",
       "    </tr>\n",
       "    <tr>\n",
       "      <th>4</th>\n",
       "      <td>Img_00005</td>\n",
       "      <td>Neutrophil</td>\n",
       "      <td>round</td>\n",
       "      <td>unsegmented-band</td>\n",
       "      <td>no</td>\n",
       "    </tr>\n",
       "    <tr>\n",
       "      <th>...</th>\n",
       "      <td>...</td>\n",
       "      <td>...</td>\n",
       "      <td>...</td>\n",
       "      <td>...</td>\n",
       "      <td>...</td>\n",
       "    </tr>\n",
       "    <tr>\n",
       "      <th>4995</th>\n",
       "      <td>Img_04996</td>\n",
       "      <td>Lymphocyte</td>\n",
       "      <td>irregular</td>\n",
       "      <td>unsegmented-round</td>\n",
       "      <td>no</td>\n",
       "    </tr>\n",
       "    <tr>\n",
       "      <th>4996</th>\n",
       "      <td>Img_04997</td>\n",
       "      <td>Neutrophil</td>\n",
       "      <td>round</td>\n",
       "      <td>unsegmented-band</td>\n",
       "      <td>no</td>\n",
       "    </tr>\n",
       "    <tr>\n",
       "      <th>4997</th>\n",
       "      <td>Img_04998</td>\n",
       "      <td>Basophil</td>\n",
       "      <td>round</td>\n",
       "      <td>irregular</td>\n",
       "      <td>no</td>\n",
       "    </tr>\n",
       "    <tr>\n",
       "      <th>4998</th>\n",
       "      <td>Img_04999</td>\n",
       "      <td>Neutrophil</td>\n",
       "      <td>round</td>\n",
       "      <td>unsegmented-band</td>\n",
       "      <td>no</td>\n",
       "    </tr>\n",
       "    <tr>\n",
       "      <th>4999</th>\n",
       "      <td>Img_05000</td>\n",
       "      <td>Neutrophil</td>\n",
       "      <td>round</td>\n",
       "      <td>unsegmented-band</td>\n",
       "      <td>no</td>\n",
       "    </tr>\n",
       "  </tbody>\n",
       "</table>\n",
       "<p>5000 rows × 5 columns</p>\n",
       "</div>"
      ],
      "text/plain": [
       "        imageID       label cell_shape         nucleus_shape cytoplasm_vacuole\n",
       "0     Img_00001  Lymphocyte      round     unsegmented-round                no\n",
       "1     Img_00002    Monocyte  irregular  unsegmented-indented                no\n",
       "2     Img_00003    Monocyte  irregular             irregular               yes\n",
       "3     Img_00004    Basophil      round  segmented-multilobed                no\n",
       "4     Img_00005  Neutrophil      round      unsegmented-band                no\n",
       "...         ...         ...        ...                   ...               ...\n",
       "4995  Img_04996  Lymphocyte  irregular     unsegmented-round                no\n",
       "4996  Img_04997  Neutrophil      round      unsegmented-band                no\n",
       "4997  Img_04998    Basophil      round             irregular                no\n",
       "4998  Img_04999  Neutrophil      round      unsegmented-band                no\n",
       "4999  Img_05000  Neutrophil      round      unsegmented-band                no\n",
       "\n",
       "[5000 rows x 5 columns]"
      ]
     },
     "execution_count": 4,
     "metadata": {},
     "output_type": "execute_result"
    }
   ],
   "source": [
    "dev_labels"
   ]
  },
  {
   "cell_type": "code",
   "execution_count": 5,
   "id": "c7ef06f0-3641-4faa-8a6c-397a636a4609",
   "metadata": {},
   "outputs": [
    {
     "data": {
      "text/html": [
       "<div>\n",
       "<style scoped>\n",
       "    .dataframe tbody tr th:only-of-type {\n",
       "        vertical-align: middle;\n",
       "    }\n",
       "\n",
       "    .dataframe tbody tr th {\n",
       "        vertical-align: top;\n",
       "    }\n",
       "\n",
       "    .dataframe thead th {\n",
       "        text-align: right;\n",
       "    }\n",
       "</style>\n",
       "<table border=\"1\" class=\"dataframe\">\n",
       "  <thead>\n",
       "    <tr style=\"text-align: right;\">\n",
       "      <th></th>\n",
       "      <th>imageID</th>\n",
       "      <th>label</th>\n",
       "      <th>cell_shape</th>\n",
       "      <th>nucleus_shape</th>\n",
       "      <th>cytoplasm_vacuole</th>\n",
       "    </tr>\n",
       "  </thead>\n",
       "  <tbody>\n",
       "    <tr>\n",
       "      <th>0</th>\n",
       "      <td>Img_00001</td>\n",
       "      <td>0</td>\n",
       "      <td>0</td>\n",
       "      <td>0</td>\n",
       "      <td>0</td>\n",
       "    </tr>\n",
       "    <tr>\n",
       "      <th>1</th>\n",
       "      <td>Img_00002</td>\n",
       "      <td>1</td>\n",
       "      <td>1</td>\n",
       "      <td>1</td>\n",
       "      <td>0</td>\n",
       "    </tr>\n",
       "    <tr>\n",
       "      <th>2</th>\n",
       "      <td>Img_00003</td>\n",
       "      <td>1</td>\n",
       "      <td>1</td>\n",
       "      <td>2</td>\n",
       "      <td>1</td>\n",
       "    </tr>\n",
       "    <tr>\n",
       "      <th>3</th>\n",
       "      <td>Img_00004</td>\n",
       "      <td>2</td>\n",
       "      <td>0</td>\n",
       "      <td>3</td>\n",
       "      <td>0</td>\n",
       "    </tr>\n",
       "    <tr>\n",
       "      <th>4</th>\n",
       "      <td>Img_00005</td>\n",
       "      <td>3</td>\n",
       "      <td>0</td>\n",
       "      <td>4</td>\n",
       "      <td>0</td>\n",
       "    </tr>\n",
       "    <tr>\n",
       "      <th>...</th>\n",
       "      <td>...</td>\n",
       "      <td>...</td>\n",
       "      <td>...</td>\n",
       "      <td>...</td>\n",
       "      <td>...</td>\n",
       "    </tr>\n",
       "    <tr>\n",
       "      <th>4995</th>\n",
       "      <td>Img_04996</td>\n",
       "      <td>0</td>\n",
       "      <td>1</td>\n",
       "      <td>0</td>\n",
       "      <td>0</td>\n",
       "    </tr>\n",
       "    <tr>\n",
       "      <th>4996</th>\n",
       "      <td>Img_04997</td>\n",
       "      <td>3</td>\n",
       "      <td>0</td>\n",
       "      <td>4</td>\n",
       "      <td>0</td>\n",
       "    </tr>\n",
       "    <tr>\n",
       "      <th>4997</th>\n",
       "      <td>Img_04998</td>\n",
       "      <td>2</td>\n",
       "      <td>0</td>\n",
       "      <td>2</td>\n",
       "      <td>0</td>\n",
       "    </tr>\n",
       "    <tr>\n",
       "      <th>4998</th>\n",
       "      <td>Img_04999</td>\n",
       "      <td>3</td>\n",
       "      <td>0</td>\n",
       "      <td>4</td>\n",
       "      <td>0</td>\n",
       "    </tr>\n",
       "    <tr>\n",
       "      <th>4999</th>\n",
       "      <td>Img_05000</td>\n",
       "      <td>3</td>\n",
       "      <td>0</td>\n",
       "      <td>4</td>\n",
       "      <td>0</td>\n",
       "    </tr>\n",
       "  </tbody>\n",
       "</table>\n",
       "<p>5000 rows × 5 columns</p>\n",
       "</div>"
      ],
      "text/plain": [
       "        imageID  label  cell_shape  nucleus_shape  cytoplasm_vacuole\n",
       "0     Img_00001      0           0              0                  0\n",
       "1     Img_00002      1           1              1                  0\n",
       "2     Img_00003      1           1              2                  1\n",
       "3     Img_00004      2           0              3                  0\n",
       "4     Img_00005      3           0              4                  0\n",
       "...         ...    ...         ...            ...                ...\n",
       "4995  Img_04996      0           1              0                  0\n",
       "4996  Img_04997      3           0              4                  0\n",
       "4997  Img_04998      2           0              2                  0\n",
       "4998  Img_04999      3           0              4                  0\n",
       "4999  Img_05000      3           0              4                  0\n",
       "\n",
       "[5000 rows x 5 columns]"
      ]
     },
     "execution_count": 5,
     "metadata": {},
     "output_type": "execute_result"
    }
   ],
   "source": [
    "# convert to integers while saving the mapping in label_vocab\n",
    "TARGETS = [\"label\", \"cell_shape\", \"nucleus_shape\", \"cytoplasm_vacuole\"]\n",
    "target_vocab = {}\n",
    "for target in TARGETS:\n",
    "    dev_labels[target], target_vocab[target] = pd.factorize(dev_labels[target])\n",
    "dev_labels"
   ]
  },
  {
   "cell_type": "code",
   "execution_count": 6,
   "id": "a7425b89-61b9-47e6-bd76-93dbe2ed27ab",
   "metadata": {},
   "outputs": [],
   "source": [
    "# make train test split\n",
    "from sklearn.model_selection import train_test_split\n",
    "\n",
    "train_data_df, test_data_df = train_test_split(dev_labels, test_size=0.2, stratify=dev_labels[\"label\"], random_state=42)\n",
    "train_data_df, val_data_df = train_test_split(train_data_df, test_size=0.25, stratify=train_data_df[\"label\"], random_state=42)"
   ]
  },
  {
   "cell_type": "code",
   "execution_count": 7,
   "id": "70fb02ea-d084-490c-bd64-1992ba38fdf6",
   "metadata": {},
   "outputs": [
    {
     "data": {
      "image/png": "[encoded data removed]",
      "text/plain": [
       "<Figure size 640x480 with 1 Axes>"
      ]
     },
     "metadata": {},
     "output_type": "display_data"
    },
    {
     "data": {
      "image/png": "[encoded data removed]",
      "text/plain": [
       "<Figure size 640x480 with 1 Axes>"
      ]
     },
     "metadata": {},
     "output_type": "display_data"
    },
    {
     "data": {
      "image/png": "[encoded data removed]",
      "text/plain": [
       "<Figure size 640x480 with 1 Axes>"
      ]
     },
     "metadata": {},
     "output_type": "display_data"
    },
    {
     "data": {
      "image/png": "[encoded data removed]",
      "text/plain": [
       "<Figure size 640x480 with 1 Axes>"
      ]
     },
     "metadata": {},
     "output_type": "display_data"
    }
   ],
   "source": [
    "for target in TARGETS:\n",
    "    plt.hist(train_data_df[target])\n",
    "    plt.title(target)\n",
    "    plt.show()"
   ]
  },
  {
   "cell_type": "markdown",
   "id": "888e7e97-1630-4fe7-b258-8a1ab3fc3d9a",
   "metadata": {},
   "source": [
    "**Observation**: \n",
    "- All targets have imbalanced classes and it is especially severe for \"cell shape\" and \"cytoplasm vacuole\".\n",
    "- Because \"nucleus shape\" has 6 classes, some classes are represented by few training samples.\n",
    "\n",
    "**Solutions**:\n",
    "- **Oversampling**: works well for single-output models or multi-output models where one output is significantly more important than the others, as the upsampling aims to balance the classes in a specific output.\n",
    "- **Augmention**: can be done more extensively on underrepresented classes. It does, however, have some of the same issues as oversampling. Normal, uniform augmentation does not solve the imbalance issue but it does increase the absolute number of samples in the underrepresented classes.\n",
    "- **Per-class weighting**: can be done seperately for each output (unlike oversampling and augmentation), which makes advantages for imbalanced multi-output models.\n",
    "- **Robust performance metric**: towards imbalanced classes. \n",
    "\n",
    "Based on these considerations, normal augmentation is applied as well as per-class weighting and using F1 as the performance metric rather than accuracy."
   ]
  },
  {
   "cell_type": "code",
   "execution_count": 8,
   "id": "0bffb1e8-fc33-4bc1-a844-5aa39abdaa33",
   "metadata": {},
   "outputs": [
    {
     "name": "stderr",
     "output_type": "stream",
     "text": [
      "2025-09-01 01:23:32.816962: I external/local_xla/xla/stream_executor/cuda/cuda_executor.cc:998] successful NUMA node read from SysFS had negative value (-1), but there must be at least one NUMA node, so returning NUMA node zero. See more at https://github.com/torvalds/linux/blob/v6.0/Documentation/ABI/testing/sysfs-bus-pci#L344-L355\n",
      "2025-09-01 01:23:32.866459: I external/local_xla/xla/stream_executor/cuda/cuda_executor.cc:998] successful NUMA node read from SysFS had negative value (-1), but there must be at least one NUMA node, so returning NUMA node zero. See more at https://github.com/torvalds/linux/blob/v6.0/Documentation/ABI/testing/sysfs-bus-pci#L344-L355\n",
      "2025-09-01 01:23:32.869532: I external/local_xla/xla/stream_executor/cuda/cuda_executor.cc:998] successful NUMA node read from SysFS had negative value (-1), but there must be at least one NUMA node, so returning NUMA node zero. See more at https://github.com/torvalds/linux/blob/v6.0/Documentation/ABI/testing/sysfs-bus-pci#L344-L355\n",
      "2025-09-01 01:23:32.872954: I external/local_xla/xla/stream_executor/cuda/cuda_executor.cc:998] successful NUMA node read from SysFS had negative value (-1), but there must be at least one NUMA node, so returning NUMA node zero. See more at https://github.com/torvalds/linux/blob/v6.0/Documentation/ABI/testing/sysfs-bus-pci#L344-L355\n",
      "2025-09-01 01:23:32.875882: I external/local_xla/xla/stream_executor/cuda/cuda_executor.cc:998] successful NUMA node read from SysFS had negative value (-1), but there must be at least one NUMA node, so returning NUMA node zero. See more at https://github.com/torvalds/linux/blob/v6.0/Documentation/ABI/testing/sysfs-bus-pci#L344-L355\n",
      "2025-09-01 01:23:32.878798: I external/local_xla/xla/stream_executor/cuda/cuda_executor.cc:998] successful NUMA node read from SysFS had negative value (-1), but there must be at least one NUMA node, so returning NUMA node zero. See more at https://github.com/torvalds/linux/blob/v6.0/Documentation/ABI/testing/sysfs-bus-pci#L344-L355\n",
      "2025-09-01 01:23:33.021876: I external/local_xla/xla/stream_executor/cuda/cuda_executor.cc:998] successful NUMA node read from SysFS had negative value (-1), but there must be at least one NUMA node, so returning NUMA node zero. See more at https://github.com/torvalds/linux/blob/v6.0/Documentation/ABI/testing/sysfs-bus-pci#L344-L355\n",
      "2025-09-01 01:23:33.023004: I external/local_xla/xla/stream_executor/cuda/cuda_executor.cc:998] successful NUMA node read from SysFS had negative value (-1), but there must be at least one NUMA node, so returning NUMA node zero. See more at https://github.com/torvalds/linux/blob/v6.0/Documentation/ABI/testing/sysfs-bus-pci#L344-L355\n",
      "2025-09-01 01:23:33.024083: I external/local_xla/xla/stream_executor/cuda/cuda_executor.cc:998] successful NUMA node read from SysFS had negative value (-1), but there must be at least one NUMA node, so returning NUMA node zero. See more at https://github.com/torvalds/linux/blob/v6.0/Documentation/ABI/testing/sysfs-bus-pci#L344-L355\n",
      "2025-09-01 01:23:33.025056: I tensorflow/core/common_runtime/gpu/gpu_device.cc:1928] Created device /job:localhost/replica:0/task:0/device:GPU:0 with 13760 MB memory:  -> device: 0, name: Tesla T4, pci bus id: 0000:00:1e.0, compute capability: 7.5\n"
     ]
    }
   ],
   "source": [
    "def make_class_weights(series):\n",
    "    # count number of each label\n",
    "    counts = series.value_counts().sort_index().to_numpy()\n",
    "    # use inverse frequency to give higher weight to infrequent classes\n",
    "    weights = counts.sum() / (len(counts) * counts)\n",
    "    return tf.constant(weights)\n",
    "\n",
    "weight_dict = {target: make_class_weights(train_data_df[target]) for target in TARGETS}\n"
   ]
  },
  {
   "cell_type": "code",
   "execution_count": 9,
   "id": "afdf9753-9756-460e-8b8e-72dc03e31d40",
   "metadata": {
    "scrolled": true
   },
   "outputs": [],
   "source": [
    "from pathlib import Path\n",
    "\n",
    "IMG_DIR = \"../Hematoxylin\"\n",
    "\n",
    "def load_image(image_path: str, target_dict: dict):\n",
    "    full_path = tf.strings.join([IMG_DIR, \"/\", image_path, \".jpg\"])\n",
    "    image = tf.io.read_file(full_path)\n",
    "    image = tf.image.decode_png(image, channels=1)\n",
    "    image = tf.image.convert_image_dtype(image, tf.float32)\n",
    "    image = tf.image.resize(image, [32, 32])\n",
    "    image = tf.image.grayscale_to_rgb(image) # ResNet requires rgb\n",
    "\n",
    "    # one-hot encode each output\n",
    "    target_onehot_dict = {target: tf.one_hot(vals, len(target_vocab[target])) for target, vals in target_dict.items()}\n",
    "\n",
    "    return image, target_onehot_dict\n",
    "\n",
    "def add_sample_weights(image, target_onehot_dict: dict):\n",
    "    # get class ids\n",
    "    class_ids = {target: tf.argmax(vals, axis=-1) for target, vals in target_onehot_dict.items()}\n",
    "    sample_weights = {target: tf.gather(weight_dict[target], class_ids[target]) for target in target_onehot_dict}\n",
    "    \n",
    "    return image, target_onehot_dict, sample_weights\n",
    "\n",
    "def create_tf_dataset_from_df(df: pd.DataFrame, train_data = False):\n",
    "    ds = tf.data.Dataset.from_tensor_slices((\n",
    "        df['imageID'].values,\n",
    "        {target: df[target].values for target in TARGETS},\n",
    "    ))\n",
    "    ds = ds.map(load_image, num_parallel_calls=AUTOTUNE)\n",
    "    if train_data:\n",
    "        ds = ds.map(add_sample_weights, num_parallel_calls=AUTOTUNE)\n",
    "\n",
    "    return ds\n",
    "\n",
    "train_dataset = create_tf_dataset_from_df(train_data_df, train_data = True)\n",
    "val_dataset = create_tf_dataset_from_df(val_data_df)\n",
    "test_dataset = create_tf_dataset_from_df(test_data_df)"
   ]
  },
  {
   "cell_type": "code",
   "execution_count": 10,
   "id": "31fef8dd-f4ee-498b-ae52-869df599ade6",
   "metadata": {},
   "outputs": [
    {
     "name": "stdout",
     "output_type": "stream",
     "text": [
      "Number of training samples: 3000\n",
      "Number of validation samples: 1000\n",
      "Number of test samples: 1000\n"
     ]
    }
   ],
   "source": [
    "print(\"Number of training samples: %d\" % tf.data.experimental.cardinality(train_dataset))\n",
    "print(\n",
    "    \"Number of validation samples: %d\" % tf.data.experimental.cardinality(val_dataset)\n",
    ")\n",
    "print(\"Number of test samples: %d\" % tf.data.experimental.cardinality(test_dataset))"
   ]
  },
  {
   "cell_type": "markdown",
   "id": "f8054086-5f8d-484f-9cb9-680333af018e",
   "metadata": {},
   "source": [
    "**Observation:**\n",
    "Training is relatively small, which means limited fine tuning of backbone model can be performed later. The training set is not found to be too small for some degree of fine tuning. "
   ]
  },
  {
   "cell_type": "code",
   "execution_count": 11,
   "id": "b56d539e-7ef6-4ee3-82ad-3c0e286fcb61",
   "metadata": {},
   "outputs": [],
   "source": [
    "BATCH_SIZE = 32\n",
    "SHUFFLE_BUFFER_SIZE = 100\n",
    "\n",
    "train_batches = (\n",
    "    train_dataset\n",
    "    .shuffle(SHUFFLE_BUFFER_SIZE)\n",
    "    .batch(BATCH_SIZE)\n",
    "    .prefetch(AUTOTUNE)\n",
    ")\n",
    "\n",
    "validation_batches = (\n",
    "    val_dataset\n",
    "    .batch(BATCH_SIZE)\n",
    ")\n",
    "\n",
    "test_batches = (\n",
    "    test_dataset\n",
    "    .batch(BATCH_SIZE)\n",
    ")"
   ]
  },
  {
   "cell_type": "markdown",
   "id": "25fd0db4-b742-40e0-984e-d3fd529c24fc",
   "metadata": {},
   "source": [
    "Print the shapes of the output tensor to check if the dataset generation is working."
   ]
  },
  {
   "cell_type": "code",
   "execution_count": 12,
   "id": "2d14c9dd-5728-4e4e-b8c9-7ae407b9d100",
   "metadata": {},
   "outputs": [
    {
     "name": "stdout",
     "output_type": "stream",
     "text": [
      "(32, 32, 32, 3) [TensorShape([32, 5]), TensorShape([32, 2]), TensorShape([32, 6]), TensorShape([32, 2])]\n",
      "(32, 32, 32, 3) [TensorShape([32, 5]), TensorShape([32, 2]), TensorShape([32, 6]), TensorShape([32, 2])]\n",
      "(32, 32, 32, 3) [TensorShape([32, 5]), TensorShape([32, 2]), TensorShape([32, 6]), TensorShape([32, 2])]\n",
      "(32, 32, 32, 3) [TensorShape([32, 5]), TensorShape([32, 2]), TensorShape([32, 6]), TensorShape([32, 2])]\n",
      "(32, 32, 32, 3) [TensorShape([32, 5]), TensorShape([32, 2]), TensorShape([32, 6]), TensorShape([32, 2])]\n",
      "(32, 32, 32, 3) [TensorShape([32, 5]), TensorShape([32, 2]), TensorShape([32, 6]), TensorShape([32, 2])]\n",
      "(32, 32, 32, 3) [TensorShape([32, 5]), TensorShape([32, 2]), TensorShape([32, 6]), TensorShape([32, 2])]\n",
      "(32, 32, 32, 3) [TensorShape([32, 5]), TensorShape([32, 2]), TensorShape([32, 6]), TensorShape([32, 2])]\n",
      "(32, 32, 32, 3) [TensorShape([32, 5]), TensorShape([32, 2]), TensorShape([32, 6]), TensorShape([32, 2])]\n",
      "(32, 32, 32, 3) [TensorShape([32, 5]), TensorShape([32, 2]), TensorShape([32, 6]), TensorShape([32, 2])]\n",
      "(32, 32, 32, 3) [TensorShape([32, 5]), TensorShape([32, 2]), TensorShape([32, 6]), TensorShape([32, 2])]\n",
      "(32, 32, 32, 3) [TensorShape([32, 5]), TensorShape([32, 2]), TensorShape([32, 6]), TensorShape([32, 2])]\n",
      "(32, 32, 32, 3) [TensorShape([32, 5]), TensorShape([32, 2]), TensorShape([32, 6]), TensorShape([32, 2])]\n",
      "(32, 32, 32, 3) [TensorShape([32, 5]), TensorShape([32, 2]), TensorShape([32, 6]), TensorShape([32, 2])]\n",
      "(32, 32, 32, 3) [TensorShape([32, 5]), TensorShape([32, 2]), TensorShape([32, 6]), TensorShape([32, 2])]\n"
     ]
    },
    {
     "name": "stderr",
     "output_type": "stream",
     "text": [
      "2025-09-01 01:23:40.732054: W tensorflow/core/framework/local_rendezvous.cc:404] Local rendezvous is aborting with status: OUT_OF_RANGE: End of sequence\n",
      "2025-09-01 01:23:40.803013: W tensorflow/core/framework/local_rendezvous.cc:404] Local rendezvous is aborting with status: OUT_OF_RANGE: End of sequence\n",
      "2025-09-01 01:23:40.861386: W tensorflow/core/framework/local_rendezvous.cc:404] Local rendezvous is aborting with status: OUT_OF_RANGE: End of sequence\n"
     ]
    }
   ],
   "source": [
    "for image, targets, weights in train_batches.take(5):\n",
    "    print(image.shape, [target.shape for _,target in targets.items()])\n",
    "\n",
    "for image, targets in validation_batches.take(5):\n",
    "    print(image.shape, [target.shape for _,target in targets.items()])\n",
    "\n",
    "for image, targets in test_batches.take(5):\n",
    "    print(image.shape, [target.shape for _,target in targets.items()])\n"
   ]
  },
  {
   "cell_type": "code",
   "execution_count": 13,
   "id": "d0fe529a-b483-4204-958d-dcf53357fa46",
   "metadata": {},
   "outputs": [
    {
     "name": "stderr",
     "output_type": "stream",
     "text": [
      "2025-09-01 01:23:45.888541: W tensorflow/core/framework/local_rendezvous.cc:404] Local rendezvous is aborting with status: OUT_OF_RANGE: End of sequence\n"
     ]
    },
    {
     "data": {
      "image/png": "[encoded data removed]",
      "text/plain": [
       "<Figure size 1000x500 with 15 Axes>"
      ]
     },
     "metadata": {},
     "output_type": "display_data"
    }
   ],
   "source": [
    "plt.figure(figsize=(10,5))\n",
    "# clabel = {0: 'right', 1: 'left', 2: 'down', 3: 'up'}\n",
    "i = 1\n",
    "for image, targets, weights in train_batches.take(15):\n",
    "    plt.subplot(3,5,i)\n",
    "    plt.imshow(image[0,:,:,0], cmap='gray')\n",
    "    # plt.title(str(clabel[np.argmax(label[0,:])]))\n",
    "    i = i+1"
   ]
  },
  {
   "cell_type": "markdown",
   "id": "0bfb2018-9f26-4588-9a85-75b99d2f9336",
   "metadata": {},
   "source": [
    "**Observation:** cells seem to always be in the center and orientation is not important. Hence, tilting with large angles is possible. All examined images seem to be representative for the application."
   ]
  },
  {
   "cell_type": "markdown",
   "id": "7100de90-b2d1-41cf-a8cc-85e271271766",
   "metadata": {},
   "source": [
    "## Model development"
   ]
  },
  {
   "cell_type": "code",
   "execution_count": 15,
   "id": "2135abe4-893f-4672-a2b1-383a5564b93d",
   "metadata": {},
   "outputs": [],
   "source": [
    "IMG_SIZE = (32, 32)\n",
    "IMG_SHAPE = (32, 32, 3)\n"
   ]
  },
  {
   "cell_type": "code",
   "execution_count": 19,
   "id": "adf20f49-919c-490f-8f33-e6d982ed15d6",
   "metadata": {},
   "outputs": [
    {
     "name": "stdout",
     "output_type": "stream",
     "text": [
      "Model: \"model_1\"\n",
      "__________________________________________________________________________________________________\n",
      " Layer (type)                Output Shape                 Param #   Connected to                  \n",
      "==================================================================================================\n",
      " input_6 (InputLayer)        [(None, 32, 32, 3)]          0         []                            \n",
      "                                                                                                  \n",
      " tf.__operators__.getitem_1  (None, 32, 32, 3)            0         ['input_6[0][0]']             \n",
      "  (SlicingOpLambda)                                                                               \n",
      "                                                                                                  \n",
      " tf.nn.bias_add_1 (TFOpLamb  (None, 32, 32, 3)            0         ['tf.__operators__.getitem_1[0\n",
      " da)                                                                ][0]']                        \n",
      "                                                                                                  \n",
      " resnet50 (Functional)       (None, 1, 1, 2048)           2358771   ['tf.nn.bias_add_1[0][0]']    \n",
      "                                                          2                                       \n",
      "                                                                                                  \n",
      " global_average_pooling2d_1  (None, 2048)                 0         ['resnet50[0][0]']            \n",
      "  (GlobalAveragePooling2D)                                                                        \n",
      "                                                                                                  \n",
      " dense_5 (Dense)             (None, 2)                    4098      ['global_average_pooling2d_1[0\n",
      "                                                                    ][0]']                        \n",
      "                                                                                                  \n",
      " dense_7 (Dense)             (None, 2)                    4098      ['global_average_pooling2d_1[0\n",
      "                                                                    ][0]']                        \n",
      "                                                                                                  \n",
      " dense_4 (Dense)             (None, 5)                    10245     ['global_average_pooling2d_1[0\n",
      "                                                                    ][0]']                        \n",
      "                                                                                                  \n",
      " dense_6 (Dense)             (None, 6)                    12294     ['global_average_pooling2d_1[0\n",
      "                                                                    ][0]']                        \n",
      "                                                                                                  \n",
      "==================================================================================================\n",
      "Total params: 23618447 (90.10 MB)\n",
      "Trainable params: 30735 (120.06 KB)\n",
      "Non-trainable params: 23587712 (89.98 MB)\n",
      "__________________________________________________________________________________________________\n"
     ]
    }
   ],
   "source": [
    "preprocess_input = tf.keras.applications.resnet50.preprocess_input\n",
    "\n",
    "base_model = tf.keras.applications.ResNet50(\n",
    "    input_shape=IMG_SHAPE,\n",
    "    include_top=False,\n",
    "    weights='imagenet',\n",
    ")\n",
    "base_model.trainable = False\n",
    "\n",
    "data_augmentation = tf.keras.Sequential(\n",
    "    [tf.keras.layers.RandomFlip(\"horizontal\"), tf.keras.layers.RandomRotation(0.1),]\n",
    ")\n",
    "\n",
    "inputs = tf.keras.Input(shape=IMG_SHAPE)\n",
    "x = data_augmentation(inputs)\n",
    "x = preprocess_input(inputs)\n",
    "x = base_model(x, training=False)\n",
    "x = tf.keras.layers.GlobalAveragePooling2D()(x)\n",
    "outputs = {target: tf.keras.layers.Dense(len(target_vocab[target]), activation='softmax')(x) for target in TARGETS}\n",
    "model = tf.keras.Model(inputs, outputs)\n",
    "\n",
    "model.summary()"
   ]
  },
  {
   "cell_type": "code",
   "execution_count": null,
   "id": "927cfcc2-e7e8-4b38-b621-f349f42553e0",
   "metadata": {},
   "outputs": [],
   "source": [
    "m_histories = {}"
   ]
  },
  {
   "cell_type": "code",
   "execution_count": 22,
   "id": "62688aaf-5437-4d99-816b-ca5d683e36d4",
   "metadata": {},
   "outputs": [
    {
     "name": "stdout",
     "output_type": "stream",
     "text": [
      "Epoch 1/5\n"
     ]
    },
    {
     "name": "stderr",
     "output_type": "stream",
     "text": [
      "2025-09-01 01:40:08.215847: I external/local_xla/xla/stream_executor/cuda/cuda_dnn.cc:465] Loaded cuDNN version 8907\n",
      "WARNING: All log messages before absl::InitializeLog() is called are written to STDERR\n",
      "I0000 00:00:1756690820.327090   20494 service.cc:145] XLA service 0x7f2874147220 initialized for platform CUDA (this does not guarantee that XLA will be used). Devices:\n",
      "I0000 00:00:1756690820.327137   20494 service.cc:153]   StreamExecutor device (0): Tesla T4, Compute Capability 7.5\n",
      "2025-09-01 01:40:20.479656: I tensorflow/compiler/mlir/tensorflow/utils/dump_mlir_util.cc:268] disabling MLIR crash reproducer, set env var `MLIR_CRASH_REPRODUCER_DIRECTORY` to enable.\n"
     ]
    },
    {
     "name": "stdout",
     "output_type": "stream",
     "text": [
      " 1/94 [..............................] - ETA: 1:07:47 - loss: 7.6801 - dense_5_loss: 0.7918 - dense_7_loss: 1.0361 - dense_4_loss: 2.7984 - dense_6_loss: 3.0538 - dense_5_accuracy: 0.1562 - dense_5_precision: 0.1562 - dense_5_recall: 0.1562 - dense_5_auc: 0.1572 - dense_7_accuracy: 0.0625 - dense_7_precision: 0.0625 - dense_7_recall: 0.0625 - dense_7_auc: 0.0381 - dense_4_accuracy: 0.2500 - dense_4_precision: 0.0000e+00 - dense_4_recall: 0.0000e+00 - dense_4_auc: 0.6245 - dense_6_accuracy: 0.1250 - dense_6_precision: 0.1250 - dense_6_recall: 0.1250 - dense_6_auc: 0.3812"
     ]
    },
    {
     "name": "stderr",
     "output_type": "stream",
     "text": [
      "I0000 00:00:1756690820.974497   20492 device_compiler.h:188] Compiled cluster using XLA!  This line is logged at most once for the lifetime of the process.\n"
     ]
    },
    {
     "name": "stdout",
     "output_type": "stream",
     "text": [
      "94/94 [==============================] - 52s 94ms/step - loss: 4.8839 - dense_5_loss: 0.7126 - dense_7_loss: 0.6945 - dense_4_loss: 1.6141 - dense_6_loss: 1.8627 - dense_5_accuracy: 0.4980 - dense_5_precision: 0.4980 - dense_5_recall: 0.4980 - dense_5_auc: 0.5097 - dense_7_accuracy: 0.5413 - dense_7_precision: 0.5413 - dense_7_recall: 0.5413 - dense_7_auc: 0.5718 - dense_4_accuracy: 0.2337 - dense_4_precision: 0.1404 - dense_4_recall: 0.0027 - dense_4_auc: 0.5618 - dense_6_accuracy: 0.1803 - dense_6_precision: 0.0938 - dense_6_recall: 0.0020 - dense_6_auc: 0.5166 - val_loss: 4.8285 - val_dense_5_loss: 0.6138 - val_dense_7_loss: 0.6999 - val_dense_4_loss: 1.5931 - val_dense_6_loss: 1.9218 - val_dense_5_accuracy: 0.7820 - val_dense_5_precision: 0.7820 - val_dense_5_recall: 0.7820 - val_dense_5_auc: 0.8246 - val_dense_7_accuracy: 0.4770 - val_dense_7_precision: 0.4770 - val_dense_7_recall: 0.4770 - val_dense_7_auc: 0.5018 - val_dense_4_accuracy: 0.1810 - val_dense_4_precision: 0.0000e+00 - val_dense_4_recall: 0.0000e+00 - val_dense_4_auc: 0.5600 - val_dense_6_accuracy: 0.1040 - val_dense_6_precision: 0.0000e+00 - val_dense_6_recall: 0.0000e+00 - val_dense_6_auc: 0.4139\n",
      "Epoch 2/5\n",
      "94/94 [==============================] - 2s 19ms/step - loss: 4.6361 - dense_5_loss: 0.7005 - dense_7_loss: 0.6477 - dense_4_loss: 1.5072 - dense_6_loss: 1.7807 - dense_5_accuracy: 0.5357 - dense_5_precision: 0.5357 - dense_5_recall: 0.5357 - dense_5_auc: 0.5660 - dense_7_accuracy: 0.6260 - dense_7_precision: 0.6260 - dense_7_recall: 0.6260 - dense_7_auc: 0.6846 - dense_4_accuracy: 0.3153 - dense_4_precision: 1.0000 - dense_4_recall: 0.0013 - dense_4_auc: 0.6443 - dense_6_accuracy: 0.1963 - dense_6_precision: 0.0000e+00 - dense_6_recall: 0.0000e+00 - dense_6_auc: 0.5637 - val_loss: 5.0909 - val_dense_5_loss: 0.8253 - val_dense_7_loss: 0.9105 - val_dense_4_loss: 1.5346 - val_dense_6_loss: 1.8205 - val_dense_5_accuracy: 0.2420 - val_dense_5_precision: 0.2420 - val_dense_5_recall: 0.2420 - val_dense_5_auc: 0.2535 - val_dense_7_accuracy: 0.2550 - val_dense_7_precision: 0.2550 - val_dense_7_recall: 0.2550 - val_dense_7_auc: 0.2007 - val_dense_4_accuracy: 0.2900 - val_dense_4_precision: 0.0000e+00 - val_dense_4_recall: 0.0000e+00 - val_dense_4_auc: 0.6210 - val_dense_6_accuracy: 0.2070 - val_dense_6_precision: 0.0000e+00 - val_dense_6_recall: 0.0000e+00 - val_dense_6_auc: 0.5223\n",
      "Epoch 3/5\n",
      "94/94 [==============================] - 2s 19ms/step - loss: 4.4599 - dense_5_loss: 0.6964 - dense_7_loss: 0.6034 - dense_4_loss: 1.4318 - dense_6_loss: 1.7284 - dense_5_accuracy: 0.5537 - dense_5_precision: 0.5537 - dense_5_recall: 0.5537 - dense_5_auc: 0.5773 - dense_7_accuracy: 0.6703 - dense_7_precision: 0.6703 - dense_7_recall: 0.6703 - dense_7_auc: 0.7439 - dense_4_accuracy: 0.3370 - dense_4_precision: 0.6296 - dense_4_recall: 0.0113 - dense_4_auc: 0.7040 - dense_6_accuracy: 0.2273 - dense_6_precision: 0.7143 - dense_6_recall: 0.0017 - dense_6_auc: 0.5995 - val_loss: 4.6258 - val_dense_5_loss: 0.7201 - val_dense_7_loss: 0.7400 - val_dense_4_loss: 1.4373 - val_dense_6_loss: 1.7284 - val_dense_5_accuracy: 0.4510 - val_dense_5_precision: 0.4510 - val_dense_5_recall: 0.4510 - val_dense_5_auc: 0.4468 - val_dense_7_accuracy: 0.4790 - val_dense_7_precision: 0.4790 - val_dense_7_recall: 0.4790 - val_dense_7_auc: 0.4953 - val_dense_4_accuracy: 0.3930 - val_dense_4_precision: 0.0000e+00 - val_dense_4_recall: 0.0000e+00 - val_dense_4_auc: 0.7322 - val_dense_6_accuracy: 0.2090 - val_dense_6_precision: 0.0000e+00 - val_dense_6_recall: 0.0000e+00 - val_dense_6_auc: 0.6208\n",
      "Epoch 4/5\n",
      "94/94 [==============================] - 2s 19ms/step - loss: 4.3353 - dense_5_loss: 0.6792 - dense_7_loss: 0.5805 - dense_4_loss: 1.3798 - dense_6_loss: 1.6957 - dense_5_accuracy: 0.5703 - dense_5_precision: 0.5703 - dense_5_recall: 0.5703 - dense_5_auc: 0.5983 - dense_7_accuracy: 0.6677 - dense_7_precision: 0.6677 - dense_7_recall: 0.6677 - dense_7_auc: 0.7444 - dense_4_accuracy: 0.3683 - dense_4_precision: 0.7077 - dense_4_recall: 0.0153 - dense_4_auc: 0.7381 - dense_6_accuracy: 0.2620 - dense_6_precision: 0.3333 - dense_6_recall: 0.0013 - dense_6_auc: 0.6331 - val_loss: 4.3251 - val_dense_5_loss: 0.6685 - val_dense_7_loss: 0.5812 - val_dense_4_loss: 1.3793 - val_dense_6_loss: 1.6961 - val_dense_5_accuracy: 0.5870 - val_dense_5_precision: 0.5870 - val_dense_5_recall: 0.5870 - val_dense_5_auc: 0.6286 - val_dense_7_accuracy: 0.6760 - val_dense_7_precision: 0.6760 - val_dense_7_recall: 0.6760 - val_dense_7_auc: 0.7604 - val_dense_4_accuracy: 0.4950 - val_dense_4_precision: 0.8077 - val_dense_4_recall: 0.0210 - val_dense_4_auc: 0.7883 - val_dense_6_accuracy: 0.3370 - val_dense_6_precision: 0.0000e+00 - val_dense_6_recall: 0.0000e+00 - val_dense_6_auc: 0.6462\n",
      "Epoch 5/5\n",
      "94/94 [==============================] - 2s 19ms/step - loss: 4.2696 - dense_5_loss: 0.6785 - dense_7_loss: 0.5754 - dense_4_loss: 1.3401 - dense_6_loss: 1.6756 - dense_5_accuracy: 0.5573 - dense_5_precision: 0.5573 - dense_5_recall: 0.5573 - dense_5_auc: 0.5848 - dense_7_accuracy: 0.6867 - dense_7_precision: 0.6867 - dense_7_recall: 0.6867 - dense_7_auc: 0.7614 - dense_4_accuracy: 0.3993 - dense_4_precision: 0.7228 - dense_4_recall: 0.0243 - dense_4_auc: 0.7580 - dense_6_accuracy: 0.2747 - dense_6_precision: 0.5806 - dense_6_recall: 0.0060 - dense_6_auc: 0.6449 - val_loss: 4.6104 - val_dense_5_loss: 0.7379 - val_dense_7_loss: 0.8050 - val_dense_4_loss: 1.3735 - val_dense_6_loss: 1.6941 - val_dense_5_accuracy: 0.4460 - val_dense_5_precision: 0.4460 - val_dense_5_recall: 0.4460 - val_dense_5_auc: 0.4290 - val_dense_7_accuracy: 0.4570 - val_dense_7_precision: 0.4570 - val_dense_7_recall: 0.4570 - val_dense_7_auc: 0.4628 - val_dense_4_accuracy: 0.4410 - val_dense_4_precision: 0.8209 - val_dense_4_recall: 0.0550 - val_dense_4_auc: 0.7719 - val_dense_6_accuracy: 0.2980 - val_dense_6_precision: 0.6452 - val_dense_6_recall: 0.0200 - val_dense_6_auc: 0.6459\n"
     ]
    },
    {
     "ename": "NameError",
     "evalue": "name 'm_histories' is not defined",
     "output_type": "error",
     "traceback": [
      "\u001b[0;31m---------------------------------------------------------------------------\u001b[0m",
      "\u001b[0;31mNameError\u001b[0m                                 Traceback (most recent call last)",
      "Cell \u001b[0;32mIn[22], line 15\u001b[0m\n\u001b[1;32m      8\u001b[0m model\u001b[38;5;241m.\u001b[39mcompile(\n\u001b[1;32m      9\u001b[0m     optimizer\u001b[38;5;241m=\u001b[39mtf\u001b[38;5;241m.\u001b[39mkeras\u001b[38;5;241m.\u001b[39moptimizers\u001b[38;5;241m.\u001b[39mAdam(),\n\u001b[1;32m     10\u001b[0m     loss\u001b[38;5;241m=\u001b[39mtf\u001b[38;5;241m.\u001b[39mkeras\u001b[38;5;241m.\u001b[39mlosses\u001b[38;5;241m.\u001b[39mCategoricalCrossentropy(from_logits\u001b[38;5;241m=\u001b[39m\u001b[38;5;28;01mFalse\u001b[39;00m),\n\u001b[1;32m     11\u001b[0m     metrics\u001b[38;5;241m=\u001b[39mMETRICS,\n\u001b[1;32m     12\u001b[0m )\n\u001b[1;32m     14\u001b[0m epochs \u001b[38;5;241m=\u001b[39m \u001b[38;5;241m5\u001b[39m\n\u001b[0;32m---> 15\u001b[0m \u001b[43mm_histories\u001b[49m[\u001b[38;5;124m'\u001b[39m\u001b[38;5;124mbaseModel\u001b[39m\u001b[38;5;124m'\u001b[39m] \u001b[38;5;241m=\u001b[39m  model\u001b[38;5;241m.\u001b[39mfit(train_batches,\n\u001b[1;32m     16\u001b[0m                                         epochs\u001b[38;5;241m=\u001b[39mepochs,\n\u001b[1;32m     17\u001b[0m                                         validation_data\u001b[38;5;241m=\u001b[39mvalidation_batches,\n\u001b[1;32m     18\u001b[0m                                         \u001b[38;5;66;03m# callbacks=get_callbacks('models/baseModel')\u001b[39;00m\n\u001b[1;32m     19\u001b[0m                                         )\n",
      "\u001b[0;31mNameError\u001b[0m: name 'm_histories' is not defined"
     ]
    }
   ],
   "source": [
    "METRICS = [\n",
    "      tf.keras.metrics.CategoricalAccuracy(name='accuracy'),\n",
    "      tf.keras.metrics.Precision(name='precision'),\n",
    "      tf.keras.metrics.Recall(name='recall'),\n",
    "      tf.keras.metrics.AUC(name='auc')\n",
    "]\n",
    "\n",
    "model.compile(\n",
    "    optimizer=tf.keras.optimizers.Adam(),\n",
    "    loss=tf.keras.losses.CategoricalCrossentropy(from_logits=False),\n",
    "    metrics=METRICS,\n",
    ")\n",
    "\n",
    "epochs = 5\n",
    "m_histories['baseModel'] =  model.fit(train_batches,\n",
    "                                        epochs=epochs,\n",
    "                                        validation_data=validation_batches,\n",
    "                                        # callbacks=get_callbacks('models/baseModel')\n",
    "                                        )"
   ]
  }
 ],
 "metadata": {
  "kernelspec": {
   "display_name": "conda_tensorflow2_p310",
   "language": "python",
   "name": "conda_tensorflow2_p310"
  },
  "language_info": {
   "codemirror_mode": {
    "name": "ipython",
    "version": 3
   },
   "file_extension": ".py",
   "mimetype": "text/x-python",
   "name": "python",
   "nbconvert_exporter": "python",
   "pygments_lexer": "ipython3",
   "version": "3.10.18"
  }
 },
 "nbformat": 4,
 "nbformat_minor": 5
}
